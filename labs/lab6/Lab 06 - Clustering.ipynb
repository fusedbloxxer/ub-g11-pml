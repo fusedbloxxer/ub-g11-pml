{
 "cells": [
  {
   "cell_type": "markdown",
   "metadata": {},
   "source": [
    "# Clustering - K-means, Hierarchical Clustering, DBSCAN "
   ]
  },
  {
   "cell_type": "markdown",
   "metadata": {},
   "source": [
    "In this lab we will perform unsupervised classification using clustering algorithms. This will give you an opportunity to explore different clustering methods and different setups for those methods in order to get an intuition as to how the process of performing unsupervised classifiation looks like."
   ]
  },
  {
   "cell_type": "markdown",
   "metadata": {},
   "source": [
    "## Dataset\n",
    "\n",
    "First, we have our dataset. For this lab we will work with a few categories from the Reuters dataset. The code below will download and preprocess the dataset in order to allow us to spend more time on the actual techniques.\n",
    "\n",
    "First, download the dataset to the current folder."
   ]
  },
  {
   "cell_type": "code",
   "execution_count": 1,
   "metadata": {},
   "outputs": [
    {
     "name": "stderr",
     "output_type": "stream",
     "text": [
      "[nltk_data] Downloading package reuters to ./...\n"
     ]
    },
    {
     "data": {
      "text/plain": [
       "True"
      ]
     },
     "execution_count": 1,
     "metadata": {},
     "output_type": "execute_result"
    }
   ],
   "source": [
    "import numpy as np\n",
    "import nltk\n",
    "nltk.download('reuters', download_dir = './')"
   ]
  },
  {
   "cell_type": "markdown",
   "metadata": {},
   "source": [
    "Secondly, go to the corpora folder located at the current path and unzip the reuters archive. Subsequently, run the rest of the processing code."
   ]
  },
  {
   "cell_type": "code",
   "execution_count": 2,
   "metadata": {},
   "outputs": [],
   "source": [
    "dataset_folder = './corpora/reuters'\n",
    "with open(f'{dataset_folder}/cats.txt', 'r') as f:\n",
    "    annotations = f.readlines()\n",
    "\n",
    "selected_categories = ['sugar', 'livestock', 'jobs', 'ship']\n",
    "category_to_index = dict(zip(selected_categories, range(len(selected_categories))))\n",
    "\n",
    "train_texts, train_labels, test_texts, test_labels = [], [], [], []\n",
    "for ann in annotations:\n",
    "    ann = ann.rstrip().split()\n",
    "    \n",
    "    if not any([category in ann for category in selected_categories]):\n",
    "        continue\n",
    "    \n",
    "    document_text = open(f'{dataset_folder}/{ann[0]}', 'r').read()\n",
    "    label = category_to_index[\n",
    "        [category for category in selected_categories if category in ann[1:]][0]\n",
    "    ]\n",
    "    \n",
    "    if 'train' in ann[0]:\n",
    "        train_texts.append(document_text)\n",
    "        train_labels.append(label)\n",
    "    else:\n",
    "        test_texts.append(document_text)\n",
    "        test_labels.append(label)\n",
    "    \n",
    "train_labels = np.array(train_labels)\n",
    "test_labels = np.array(test_labels)"
   ]
  },
  {
   "cell_type": "markdown",
   "metadata": {},
   "source": [
    "After this preprocessing we end up with 4 arrays.\n",
    "- train_texts - which is a list of all the texts in the train dataset\n",
    "- train_labels - which is a numpy array with the labels of train_texts, corresponding to the chosen categories\n",
    "- test_texts - which is a list of all the texts in the test dataset\n",
    "- test_labels - which is a numpy array with the labels of test_texts, corresponding to the chosen categories"
   ]
  },
  {
   "cell_type": "markdown",
   "metadata": {},
   "source": [
    "## Preprocessing\n",
    "\n",
    "For this exercise we will use a simple TF-IDF vectorizer from the sklearn library.\n",
    "\n",
    "Your first task is to compute the train_data and test_data variables, which should be the results of applying the TfidfVectorizer from the sklearn library on our dataset. Use a maximum of 500 features. Fit the vectorizer on the training texts and use it to transform both training and test documents."
   ]
  },
  {
   "cell_type": "code",
   "execution_count": 235,
   "metadata": {},
   "outputs": [],
   "source": [
    "with open('./corpora/reuters/stopwords', 'r+') as f:\n",
    "  stopwords = [line.removesuffix('\\n') for line in f.readlines()]"
   ]
  },
  {
   "cell_type": "code",
   "execution_count": 236,
   "metadata": {},
   "outputs": [],
   "source": [
    "import sklearn as sk\n",
    "import sklearn.feature_extraction.text as text\n",
    "\n",
    "tf_idf = text.TfidfVectorizer(max_features=1000, stop_words=stopwords)\n",
    "tf_idf.fit(train_texts)\n",
    "\n",
    "train_data = tf_idf.transform(train_texts)\n",
    "test_data = tf_idf.transform(test_texts)"
   ]
  },
  {
   "cell_type": "markdown",
   "metadata": {},
   "source": [
    "## Sanity check\n",
    "\n",
    "To ensure that everything is okay with our data and preprocessing, and, in order to have a baseline as a reference, fit an SVC on the training data and evaluate it on the test split. Report your results."
   ]
  },
  {
   "cell_type": "code",
   "execution_count": 237,
   "metadata": {},
   "outputs": [
    {
     "name": "stdout",
     "output_type": "stream",
     "text": [
      "0.9578313253012049\n"
     ]
    }
   ],
   "source": [
    "import sklearn.svm as svm\n",
    "import sklearn.metrics as metrics\n",
    "\n",
    "model = svm.SVC(kernel='linear')\n",
    "model.fit(train_data, train_labels)\n",
    "y_hat = model.predict(test_data)\n",
    "\n",
    "test_accuracy = metrics.accuracy_score(test_labels, y_hat)\n",
    "print(test_accuracy)"
   ]
  },
  {
   "cell_type": "markdown",
   "metadata": {},
   "source": [
    "## K-Means"
   ]
  },
  {
   "cell_type": "markdown",
   "metadata": {},
   "source": [
    "The first clustering algorithm we will investigate is the one we've already seen: K-Means.\n",
    "\n",
    "As a basline, fit the a K-Means model, without any change in parameters on the dataset."
   ]
  },
  {
   "cell_type": "code",
   "execution_count": 238,
   "metadata": {},
   "outputs": [
    {
     "name": "stderr",
     "output_type": "stream",
     "text": [
      "/home/invokariman/.cache/pypoetry/virtualenvs/lab6-vTFSZr9J-py3.10/lib/python3.10/site-packages/sklearn/cluster/_kmeans.py:870: FutureWarning: The default value of `n_init` will change from 10 to 'auto' in 1.4. Set the value of `n_init` explicitly to suppress the warning\n",
      "  warnings.warn(\n"
     ]
    },
    {
     "data": {
      "text/html": [
       "<style>#sk-container-id-18 {color: black;background-color: white;}#sk-container-id-18 pre{padding: 0;}#sk-container-id-18 div.sk-toggleable {background-color: white;}#sk-container-id-18 label.sk-toggleable__label {cursor: pointer;display: block;width: 100%;margin-bottom: 0;padding: 0.3em;box-sizing: border-box;text-align: center;}#sk-container-id-18 label.sk-toggleable__label-arrow:before {content: \"▸\";float: left;margin-right: 0.25em;color: #696969;}#sk-container-id-18 label.sk-toggleable__label-arrow:hover:before {color: black;}#sk-container-id-18 div.sk-estimator:hover label.sk-toggleable__label-arrow:before {color: black;}#sk-container-id-18 div.sk-toggleable__content {max-height: 0;max-width: 0;overflow: hidden;text-align: left;background-color: #f0f8ff;}#sk-container-id-18 div.sk-toggleable__content pre {margin: 0.2em;color: black;border-radius: 0.25em;background-color: #f0f8ff;}#sk-container-id-18 input.sk-toggleable__control:checked~div.sk-toggleable__content {max-height: 200px;max-width: 100%;overflow: auto;}#sk-container-id-18 input.sk-toggleable__control:checked~label.sk-toggleable__label-arrow:before {content: \"▾\";}#sk-container-id-18 div.sk-estimator input.sk-toggleable__control:checked~label.sk-toggleable__label {background-color: #d4ebff;}#sk-container-id-18 div.sk-label input.sk-toggleable__control:checked~label.sk-toggleable__label {background-color: #d4ebff;}#sk-container-id-18 input.sk-hidden--visually {border: 0;clip: rect(1px 1px 1px 1px);clip: rect(1px, 1px, 1px, 1px);height: 1px;margin: -1px;overflow: hidden;padding: 0;position: absolute;width: 1px;}#sk-container-id-18 div.sk-estimator {font-family: monospace;background-color: #f0f8ff;border: 1px dotted black;border-radius: 0.25em;box-sizing: border-box;margin-bottom: 0.5em;}#sk-container-id-18 div.sk-estimator:hover {background-color: #d4ebff;}#sk-container-id-18 div.sk-parallel-item::after {content: \"\";width: 100%;border-bottom: 1px solid gray;flex-grow: 1;}#sk-container-id-18 div.sk-label:hover label.sk-toggleable__label {background-color: #d4ebff;}#sk-container-id-18 div.sk-serial::before {content: \"\";position: absolute;border-left: 1px solid gray;box-sizing: border-box;top: 0;bottom: 0;left: 50%;z-index: 0;}#sk-container-id-18 div.sk-serial {display: flex;flex-direction: column;align-items: center;background-color: white;padding-right: 0.2em;padding-left: 0.2em;position: relative;}#sk-container-id-18 div.sk-item {position: relative;z-index: 1;}#sk-container-id-18 div.sk-parallel {display: flex;align-items: stretch;justify-content: center;background-color: white;position: relative;}#sk-container-id-18 div.sk-item::before, #sk-container-id-18 div.sk-parallel-item::before {content: \"\";position: absolute;border-left: 1px solid gray;box-sizing: border-box;top: 0;bottom: 0;left: 50%;z-index: -1;}#sk-container-id-18 div.sk-parallel-item {display: flex;flex-direction: column;z-index: 1;position: relative;background-color: white;}#sk-container-id-18 div.sk-parallel-item:first-child::after {align-self: flex-end;width: 50%;}#sk-container-id-18 div.sk-parallel-item:last-child::after {align-self: flex-start;width: 50%;}#sk-container-id-18 div.sk-parallel-item:only-child::after {width: 0;}#sk-container-id-18 div.sk-dashed-wrapped {border: 1px dashed gray;margin: 0 0.4em 0.5em 0.4em;box-sizing: border-box;padding-bottom: 0.4em;background-color: white;}#sk-container-id-18 div.sk-label label {font-family: monospace;font-weight: bold;display: inline-block;line-height: 1.2em;}#sk-container-id-18 div.sk-label-container {text-align: center;}#sk-container-id-18 div.sk-container {/* jupyter's `normalize.less` sets `[hidden] { display: none; }` but bootstrap.min.css set `[hidden] { display: none !important; }` so we also need the `!important` here to be able to override the default hidden behavior on the sphinx rendered scikit-learn.org. See: https://github.com/scikit-learn/scikit-learn/issues/21755 */display: inline-block !important;position: relative;}#sk-container-id-18 div.sk-text-repr-fallback {display: none;}</style><div id=\"sk-container-id-18\" class=\"sk-top-container\"><div class=\"sk-text-repr-fallback\"><pre>KMeans(n_clusters=4)</pre><b>In a Jupyter environment, please rerun this cell to show the HTML representation or trust the notebook. <br />On GitHub, the HTML representation is unable to render, please try loading this page with nbviewer.org.</b></div><div class=\"sk-container\" hidden><div class=\"sk-item\"><div class=\"sk-estimator sk-toggleable\"><input class=\"sk-toggleable__control sk-hidden--visually\" id=\"sk-estimator-id-18\" type=\"checkbox\" checked><label for=\"sk-estimator-id-18\" class=\"sk-toggleable__label sk-toggleable__label-arrow\">KMeans</label><div class=\"sk-toggleable__content\"><pre>KMeans(n_clusters=4)</pre></div></div></div></div></div>"
      ],
      "text/plain": [
       "KMeans(n_clusters=4)"
      ]
     },
     "execution_count": 238,
     "metadata": {},
     "output_type": "execute_result"
    }
   ],
   "source": [
    "from sklearn.cluster import KMeans\n",
    "\n",
    "model_cluster = KMeans(n_clusters=4)\n",
    "model_cluster.fit(train_data)"
   ]
  },
  {
   "cell_type": "markdown",
   "metadata": {},
   "source": [
    "### Evaluation\n",
    "\n",
    "Since we work in an unsupervised classification scenario, we will evaluate or model with respect to the class labels that we have. In order to do that, we have to match each cluster to a class (since clusters are not ordered in any particular order). For that, we will compute the confusion matrix (m\\[i\\]\\[j\\] = number of samples from class i assigned to cluster j) on the training set and use it do determine the best matching.\n",
    "\n",
    "In order to perform the matching we will use the linear_sum_assignment method implemented in the scipy.optimize package (https://docs.scipy.org/doc/scipy-0.18.1/reference/generated/scipy.optimize.linear_sum_assignment.html). This method requires a cost function in order to compute the best matching. For that, we will feed the inverse of the confusion matrix, that is 1.0/confusion_matrix.\n",
    "\n",
    "Once you compute the best matching, translate the cluster labels into class labels and evaluate the accuracy of the model on the training set as well as the test set."
   ]
  },
  {
   "cell_type": "markdown",
   "metadata": {},
   "source": [
    "### Exercises:\n",
    "\n",
    "Make changes such as the following and take note on how those influence the performance of the model.\n",
    "\n",
    "1. Consider the fact that the classes are unbalanced. In order to account for that in the cost matrix, divide each row of the confusion matrix by its sum before passing it to the linear_sum_assignment procedure.\n",
    "2. Insted of passing the inverse of the confusion_matrix as a cost, pass the negative of the confusion matrix\n",
    "3. Try the k-means++ init for the clustering algorithm\n",
    "4. Try different values for the n_init parameter\n",
    "5. Try using PCA or t-sne on your data\n",
    "6. Try using different amount of features when computing the TF-IDF representations\n",
    "7. Try using the stopwords provided with the dataset during the TF-IDF vectorization (nltk_data/corpora/reuters/stopwords)\n",
    "9. Try using a different vectorization procedure\n",
    "10. Try normalizing your data"
   ]
  },
  {
   "cell_type": "code",
   "execution_count": 350,
   "metadata": {},
   "outputs": [
    {
     "name": "stdout",
     "output_type": "stream",
     "text": [
      "train acc 0.5253456221198156\n",
      "test acc 0.6506024096385542\n"
     ]
    }
   ],
   "source": [
    "from scipy.optimize import linear_sum_assignment\n",
    "\n",
    "# research on the problem at hand\n",
    "model_cluster = KMeans(n_clusters=4, n_init=100, init='k-means++', max_iter=3_000)\n",
    "model_cluster.fit(train_data)\n",
    "\n",
    "# evaluate the unsupervised method\n",
    "y_train = model_cluster.predict(train_data)\n",
    "y_test = model_cluster.predict(test_data)\n",
    "\n",
    "# compute conf matrix assignments\n",
    "conf_train = metrics.confusion_matrix(train_labels, y_train)\n",
    "\n",
    "# divide by sum over columns\n",
    "row_sums = np.tile(conf_train.sum(axis=1), (1, 4)).reshape(4, 4).T\n",
    "\n",
    "# compute the cost matrix (inverse of conf matrix)\n",
    "cost_train = -1.0 * (conf_train / row_sums)\n",
    "\n",
    "# # optimize by matching pairs row-col wise using hungarian alg.\n",
    "r_train, c_train = linear_sum_assignment(cost_train)\n",
    "\n",
    "# swap labels\n",
    "y_train_ = np.zeros_like(y_train)\n",
    "y_test_ = np.zeros_like(y_test)\n",
    "\n",
    "for r, c in zip(r_train, c_train):\n",
    "  y_train_[np.where(y_train == r)] = c\n",
    "  y_test_[np.where(y_test == r)] = c\n",
    "\n",
    "# compute conf matrix assignments\n",
    "conf_train_ = metrics.confusion_matrix(train_labels, y_train_)\n",
    "conf_test_ = metrics.confusion_matrix(test_labels, y_test_)\n",
    "\n",
    "# compute accuracy\n",
    "train_acc = metrics.accuracy_score(train_labels, y_train_)\n",
    "test_acc = metrics.accuracy_score(test_labels, y_test_)\n",
    "\n",
    "# show accuracy\n",
    "print('train acc', train_acc)\n",
    "print('test acc', test_acc)"
   ]
  },
  {
   "cell_type": "markdown",
   "metadata": {},
   "source": [
    "### Consider the realistic scenario\n",
    "\n",
    "Consider an actual project where you are given a set of documents collected from the web, that do not have any human annotations. You are tasked to group those documents semantically.\n",
    "\n",
    "Choose one of the models developed in the previous phase.\n",
    "\n",
    "1. Look through the cluster texts in order to get a sense of what each cluster represents.\n",
    "2. For each cluster extract the most important/characteristic words and see what they point to\n",
    "    - you can do this by evaluating documents that are closer to the center of the cluster\n",
    "    - you can do this by running statistics on the entire cluster\n",
    "    - you can use different measures for the importance of a word (number of distinct documents within which the word appears, tfidf for the documents closer to the center, etc)\n",
    "    \n",
    "Use this exercise in order to get a sense of the data and to get a sense of how the clustering algorithm grouped them and what those groups represent."
   ]
  },
  {
   "cell_type": "code",
   "execution_count": null,
   "metadata": {},
   "outputs": [],
   "source": [
    "# interpretating results"
   ]
  },
  {
   "cell_type": "markdown",
   "metadata": {},
   "source": [
    "## Hierarchical Clustering"
   ]
  },
  {
   "cell_type": "markdown",
   "metadata": {},
   "source": [
    "We will continue the investigation of our problem using a different clustering procedure, namely agglomerative clustering. For that we will use the implemenation provided by the scipy library (https://docs.scipy.org/doc/scipy/reference/generated/scipy.cluster.hierarchy.linkage.html)."
   ]
  },
  {
   "cell_type": "markdown",
   "metadata": {},
   "source": [
    "### Exercises\n",
    "\n",
    "Repeat evaluating the different setups presented in the previous set of exercises in order to investigate the current clustering method. In addition:\n",
    "\n",
    "1. Evaluate different linking methods\n",
    "2. Evaluate different metrics (such as cosine)\n",
    "\n",
    "And see how they impact the performance and learning process."
   ]
  },
  {
   "cell_type": "code",
   "execution_count": null,
   "metadata": {},
   "outputs": [],
   "source": [
    "# research on the problem at hand"
   ]
  },
  {
   "cell_type": "code",
   "execution_count": null,
   "metadata": {},
   "outputs": [],
   "source": [
    "# interpreting results"
   ]
  },
  {
   "cell_type": "markdown",
   "metadata": {},
   "source": [
    "## DBSCAN\n",
    "\n",
    "Finally, we will make use of the DBSCAN algorithm in order to cluster the data (https://scikit-learn.org/stable/modules/generated/sklearn.cluster.DBSCAN.html)."
   ]
  },
  {
   "cell_type": "markdown",
   "metadata": {},
   "source": [
    "### Exercises\n",
    "\n",
    "Investigate the DBSCAN model. In addition to the previous setups:\n",
    "\n",
    "1. Evaluate the distribution of distances between samples in the training data and use them as a reference point when deciding the parameters\n",
    "2. Perform a grid search on the parameters\n",
    "3. Use a different association rule for evaluation, which allows multiple clusters to pe assigned to a single class, for instance, based on the confusion matrix, assign each cluster to the class with which it has the most samples in common"
   ]
  },
  {
   "cell_type": "code",
   "execution_count": null,
   "metadata": {},
   "outputs": [],
   "source": [
    "# research on the problem at hand"
   ]
  },
  {
   "cell_type": "code",
   "execution_count": null,
   "metadata": {},
   "outputs": [],
   "source": [
    "# interpreting results"
   ]
  }
 ],
 "metadata": {
  "kernelspec": {
   "display_name": "lab6-vTFSZr9J-py3.10",
   "language": "python",
   "name": "python3"
  },
  "language_info": {
   "codemirror_mode": {
    "name": "ipython",
    "version": 3
   },
   "file_extension": ".py",
   "mimetype": "text/x-python",
   "name": "python",
   "nbconvert_exporter": "python",
   "pygments_lexer": "ipython3",
   "version": "3.10.6"
  },
  "vscode": {
   "interpreter": {
    "hash": "57f65900eff39481aa72205e951565ae2c2b69785acb50a485c18c3f2ba38677"
   }
  }
 },
 "nbformat": 4,
 "nbformat_minor": 4
}
