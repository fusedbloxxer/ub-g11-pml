{
 "cells": [
  {
   "cell_type": "markdown",
   "metadata": {},
   "source": [
    "# Practical Machine Learning\n",
    "# Lab 4\n",
    "## Convolutional Neural Networks"
   ]
  },
  {
   "attachments": {
    "cnn.jpeg": {
     "image/jpeg": "[encoded data removed]"
    }
   },
   "cell_type": "markdown",
   "metadata": {},
   "source": [
    "![cnn.jpeg](attachment:cnn.jpeg)\n",
    "\n",
    "A ConvNet arranges its neurons in three dimensions (width, height, depth). Every layer of a ConvNet transforms the 3D input volume to a 3D output volume of neuron activations. In this example, the red input layer holds the image, so its width and height would be the dimensions of the image, and the depth would be 3 (Red, Green, Blue channels)"
   ]
  },
  {
   "cell_type": "markdown",
   "metadata": {},
   "source": [
    "## Properties of the convolution layer\n",
    " - parameter sharing\n",
    "    - in a fully connected neural network one weight is used only once during a forward step, but in a CNN one weight is used in each position of the input (when the stride is 1, excepting the edges)\n",
    " - local connectivity\n",
    "     - each neuron (unit) is connected only to a small region, this region is named receptive field\n",
    " - equivariance to translation\n",
    "     - if a filter learns to recognise a specific pattern, it will recognise that pattern no matter its location in the input\n",
    "     \n",
    "## Properties of the pooling layer\n",
    " - a pooling function replaces the output of the net at a certain location with a summary statistic of the nearby outputs\n",
    " - helps to make the representation approximately invariant to small translations of the input"
   ]
  },
  {
   "cell_type": "code",
   "execution_count": 34,
   "metadata": {},
   "outputs": [],
   "source": [
    "import os\n",
    "import numpy as np\n",
    "from os import path\n",
    "import matplotlib.pyplot as plt\n",
    "\n",
    "ROOT_PATH = '..'\n",
    "DATA_PATH = path.join(ROOT_PATH, 'data')\n",
    "WEIGHTS_PATH = path.join(ROOT_PATH, 'weights')\n",
    "CHECKPOINTS_PATH = path.join(ROOT_PATH, 'checkpoints')\n",
    "\n",
    "os.environ['CUDA_VISIBLE_DEVICES']='0'"
   ]
  },
  {
   "cell_type": "markdown",
   "metadata": {},
   "source": [
    "- Loading the images"
   ]
  },
  {
   "cell_type": "code",
   "execution_count": 35,
   "metadata": {},
   "outputs": [
    {
     "name": "stdout",
     "output_type": "stream",
     "text": [
      "The number of images for training is 10000.\n"
     ]
    }
   ],
   "source": [
    "# load the training data\n",
    "train_images_raw = np.load(f'{DATA_PATH}/train_images.npy')\n",
    "train_labels = np.load(f'{DATA_PATH}/train_labels.npy') \n",
    "print('The number of images for training is %d.' % train_images_raw.shape[0]) \n",
    "\n",
    "# load the test data\n",
    "test_images_raw = np.load(f'{DATA_PATH}/test_images.npy')\n",
    "test_labels = np.load(f'{DATA_PATH}/test_labels.npy') "
   ]
  },
  {
   "cell_type": "markdown",
   "metadata": {},
   "source": [
    "###  Prepare the data\n",
    "Convert the data from uint8 to float32, normalize the pixel data from [0, 255] to [0, 1]\n",
    "\n",
    "Compute the mean image and substract it from each training and test image."
   ]
  },
  {
   "cell_type": "code",
   "execution_count": 36,
   "metadata": {},
   "outputs": [],
   "source": [
    "# TODO: 2.1 convert int to float\n",
    "train_images = train_images_raw.astype(np.float32) / 255.\n",
    "test_images = test_images_raw.astype(np.float32) / 255.\n",
    "\n",
    "# TODO: 2.2 compute mean training image\n",
    "train_image_mean = train_images.mean(axis=(0,))\n",
    "test_image_mean = train_image_mean\n",
    "\n",
    "# TODO: 2.3 subtract the mean image from training and test data.\n",
    "train_images = (train_images - train_images.mean(axis=0)) / train_images.std(axis=0)\n",
    "test_images = (test_images - test_images.mean(axis=0)) / test_images.std(axis=0)"
   ]
  },
  {
   "cell_type": "markdown",
   "metadata": {},
   "source": [
    "### Define a conv layer"
   ]
  },
  {
   "cell_type": "code",
   "execution_count": 37,
   "metadata": {},
   "outputs": [
    {
     "data": {
      "text/plain": [
       "<keras.layers.convolutional.conv2d.Conv2D at 0x7f7124132e90>"
      ]
     },
     "execution_count": 37,
     "metadata": {},
     "output_type": "execute_result"
    }
   ],
   "source": [
    "import tensorflow\n",
    "import tensorflow as tf\n",
    "import tensorflow.keras.layers as layers\n",
    "\n",
    "layers.Conv2D(filters=64, kernel_size=(5, 5), activation='relu', strides=(1,1), padding='same')\n",
    "# filters - the number of conv filters\n",
    "# kernel_size - the size of the kernel, we usually use odd numbers\n",
    "# activation - the activation function\n",
    "# strides - the stride on each dimension\n",
    "# padding - same or valid"
   ]
  },
  {
   "cell_type": "markdown",
   "metadata": {},
   "source": [
    "### Define a pooling layer"
   ]
  },
  {
   "cell_type": "code",
   "execution_count": 38,
   "metadata": {},
   "outputs": [
    {
     "data": {
      "text/plain": [
       "<keras.layers.pooling.max_pooling2d.MaxPooling2D at 0x7f71241318d0>"
      ]
     },
     "execution_count": 38,
     "metadata": {},
     "output_type": "execute_result"
    }
   ],
   "source": [
    "layers.AveragePooling2D(pool_size=3, strides=(2,2), padding='same') # average pooling\n",
    "layers.MaxPool2D(pool_size=3, strides=(2,2), padding='same') # max pooling \n",
    "# pool_size - the size of the window\n",
    "# strides - the stride on each dimension\n",
    "# padding - same or valid"
   ]
  },
  {
   "cell_type": "markdown",
   "metadata": {},
   "source": [
    "- Flatten layer - it flattens the input, but does not affect the batch size. "
   ]
  },
  {
   "cell_type": "code",
   "execution_count": 39,
   "metadata": {},
   "outputs": [
    {
     "data": {
      "text/plain": [
       "<keras.layers.reshaping.flatten.Flatten at 0x7f7124133ac0>"
      ]
     },
     "execution_count": 39,
     "metadata": {},
     "output_type": "execute_result"
    }
   ],
   "source": [
    "layers.Flatten()"
   ]
  },
  {
   "cell_type": "markdown",
   "metadata": {},
   "source": [
    "## Exercises"
   ]
  },
  {
   "cell_type": "markdown",
   "metadata": {},
   "source": [
    "## 1. Train a convolutional neural network with the following configuration:\n",
    "    - L1: conv\n",
    "        - kernel-size=3, stride=1, padding=same, filters=32, activation-function=relu\n",
    "    - L2: conv\n",
    "        - kernel-size=3, stride=1, padding=same, filters=32, activation-function=relu\n",
    "    - L3: pool\n",
    "        - kernel-size=2, stride=2, padding=same\n",
    "    - L4: conv\n",
    "        - kernel-size=3, stride=1, padding=same, filters=64, activation-function=relu\n",
    "    - L5: conv\n",
    "        - kernel-size=3, stride=1, padding=same, filters=64, activation-function=relu\n",
    "    - L6: pool\n",
    "        - kernel-size=2, stride=2, padding=same\n",
    "    - L7: conv\n",
    "        - kernel-size=3, stride=1, padding=same, filters=128, activation-function=relu\n",
    "    - L8: conv\n",
    "        - kernel-size=3, stride=1, padding=same, filters=128, activation-function=relu\n",
    "    - L9: pool\n",
    "        - kernel-size=2, stride=2, padding=same\n",
    "    - L10: flatten\n",
    "    - L11: dropout\n",
    "        - dropout rate=0.3\n",
    "    - L12 - fully connected (dense) with 10 units and softmax as activation function.\n",
    " \n",
    "Train the network for 10 epochs using what optimizer you like.\n",
    "\n",
    "The loss you have to use is 'categorical_crossentropy' (you should encode the training labels using one-hot-encoding in order to use this loss).\n",
    "\n",
    "Does this network perform better than a fully connected one?\n",
    "    "
   ]
  },
  {
   "cell_type": "code",
   "execution_count": 50,
   "metadata": {},
   "outputs": [
    {
     "name": "stdout",
     "output_type": "stream",
     "text": [
      "Epoch 1/100\n"
     ]
    },
    {
     "name": "stderr",
     "output_type": "stream",
     "text": [
      "2022-11-19 23:09:43.659982: E tensorflow/core/grappler/optimizers/meta_optimizer.cc:954] layout failed: INVALID_ARGUMENT: Size of values 0 does not match size of permutation 4 @ fanin shape insequential_21/dropout_117/dropout/SelectV2-2-TransposeNHWCToNCHW-LayoutOptimizer\n"
     ]
    },
    {
     "name": "stdout",
     "output_type": "stream",
     "text": [
      "20/20 [==============================] - 3s 42ms/step - loss: 2.2879 - categorical_accuracy: 0.1470 - gpu_id: 0/utilization.memory (%): 7.0000 - gpu_id: 0/utilization.gpu (%): 75.0000 - gpu_id: 0/memory.used (MiB): 23991.4375 - gpu_id: 0/memory.free (MiB): 230.3750 - val_loss: 2.1537 - val_categorical_accuracy: 0.2600\n",
      "Epoch 2/100\n",
      "20/20 [==============================] - 1s 29ms/step - loss: 1.9912 - categorical_accuracy: 0.2721 - gpu_id: 0/utilization.memory (%): 37.8000 - gpu_id: 0/utilization.gpu (%): 86.9000 - gpu_id: 0/memory.used (MiB): 23917.6750 - gpu_id: 0/memory.free (MiB): 304.1375 - val_loss: 1.8512 - val_categorical_accuracy: 0.3000\n",
      "Epoch 3/100\n",
      "20/20 [==============================] - 1s 30ms/step - loss: 1.7788 - categorical_accuracy: 0.3529 - gpu_id: 0/utilization.memory (%): 51.0000 - gpu_id: 0/utilization.gpu (%): 92.0000 - gpu_id: 0/memory.used (MiB): 23886.0625 - gpu_id: 0/memory.free (MiB): 335.7500 - val_loss: 1.8364 - val_categorical_accuracy: 0.3300\n",
      "Epoch 4/100\n",
      "20/20 [==============================] - 1s 30ms/step - loss: 1.6231 - categorical_accuracy: 0.4065 - gpu_id: 0/utilization.memory (%): 49.0000 - gpu_id: 0/utilization.gpu (%): 90.0000 - gpu_id: 0/memory.used (MiB): 23903.8750 - gpu_id: 0/memory.free (MiB): 317.9375 - val_loss: 1.6757 - val_categorical_accuracy: 0.3500\n",
      "Epoch 5/100\n",
      "20/20 [==============================] - 1s 29ms/step - loss: 1.5200 - categorical_accuracy: 0.4421 - gpu_id: 0/utilization.memory (%): 50.7500 - gpu_id: 0/utilization.gpu (%): 91.7500 - gpu_id: 0/memory.used (MiB): 23905.8750 - gpu_id: 0/memory.free (MiB): 315.9375 - val_loss: 1.5519 - val_categorical_accuracy: 0.4900\n",
      "Epoch 6/100\n",
      "20/20 [==============================] - 1s 30ms/step - loss: 1.4423 - categorical_accuracy: 0.4689 - gpu_id: 0/utilization.memory (%): 56.0000 - gpu_id: 0/utilization.gpu (%): 97.0000 - gpu_id: 0/memory.used (MiB): 23911.8750 - gpu_id: 0/memory.free (MiB): 309.9375 - val_loss: 1.4524 - val_categorical_accuracy: 0.4800\n",
      "Epoch 7/100\n",
      "20/20 [==============================] - 1s 31ms/step - loss: 1.3487 - categorical_accuracy: 0.5014 - gpu_id: 0/utilization.memory (%): 54.3500 - gpu_id: 0/utilization.gpu (%): 96.4500 - gpu_id: 0/memory.used (MiB): 23911.2906 - gpu_id: 0/memory.free (MiB): 310.5219 - val_loss: 1.4297 - val_categorical_accuracy: 0.4300\n",
      "Epoch 8/100\n",
      "20/20 [==============================] - 1s 36ms/step - loss: 1.2934 - categorical_accuracy: 0.5218 - gpu_id: 0/utilization.memory (%): 53.0000 - gpu_id: 0/utilization.gpu (%): 96.0000 - gpu_id: 0/memory.used (MiB): 23910.8125 - gpu_id: 0/memory.free (MiB): 311.0000 - val_loss: 1.2394 - val_categorical_accuracy: 0.5700\n",
      "Epoch 9/100\n",
      "20/20 [==============================] - 1s 38ms/step - loss: 1.2759 - categorical_accuracy: 0.5277 - gpu_id: 0/utilization.memory (%): 23.0000 - gpu_id: 0/utilization.gpu (%): 92.0000 - gpu_id: 0/memory.used (MiB): 23850.6875 - gpu_id: 0/memory.free (MiB): 371.1250 - val_loss: 1.1784 - val_categorical_accuracy: 0.5200\n",
      "Epoch 10/100\n",
      "20/20 [==============================] - 1s 31ms/step - loss: 1.2159 - categorical_accuracy: 0.5581 - gpu_id: 0/utilization.memory (%): 33.8000 - gpu_id: 0/utilization.gpu (%): 90.8000 - gpu_id: 0/memory.used (MiB): 23833.8875 - gpu_id: 0/memory.free (MiB): 387.9250 - val_loss: 1.1904 - val_categorical_accuracy: 0.5700\n",
      "Epoch 11/100\n",
      "20/20 [==============================] - 1s 28ms/step - loss: 1.2043 - categorical_accuracy: 0.5612 - gpu_id: 0/utilization.memory (%): 41.0000 - gpu_id: 0/utilization.gpu (%): 90.0000 - gpu_id: 0/memory.used (MiB): 23822.6875 - gpu_id: 0/memory.free (MiB): 399.1250 - val_loss: 1.2748 - val_categorical_accuracy: 0.5100\n",
      "Epoch 12/100\n",
      "20/20 [==============================] - 1s 28ms/step - loss: 1.1463 - categorical_accuracy: 0.5859 - gpu_id: 0/utilization.memory (%): 52.9000 - gpu_id: 0/utilization.gpu (%): 95.1000 - gpu_id: 0/memory.used (MiB): 23860.6188 - gpu_id: 0/memory.free (MiB): 361.1938 - val_loss: 1.1368 - val_categorical_accuracy: 0.5700\n",
      "Epoch 13/100\n",
      "20/20 [==============================] - 1s 29ms/step - loss: 1.1021 - categorical_accuracy: 0.5984 - gpu_id: 0/utilization.memory (%): 55.0000 - gpu_id: 0/utilization.gpu (%): 96.0000 - gpu_id: 0/memory.used (MiB): 23867.3125 - gpu_id: 0/memory.free (MiB): 354.5000 - val_loss: 0.9715 - val_categorical_accuracy: 0.6500\n",
      "Epoch 14/100\n",
      "20/20 [==============================] - 1s 29ms/step - loss: 1.0521 - categorical_accuracy: 0.6119 - gpu_id: 0/utilization.memory (%): 56.0000 - gpu_id: 0/utilization.gpu (%): 97.0000 - gpu_id: 0/memory.used (MiB): 23879.3125 - gpu_id: 0/memory.free (MiB): 342.5000 - val_loss: 1.1001 - val_categorical_accuracy: 0.5500\n",
      "Epoch 15/100\n",
      "20/20 [==============================] - 1s 29ms/step - loss: 1.0252 - categorical_accuracy: 0.6285 - gpu_id: 0/utilization.memory (%): 55.7500 - gpu_id: 0/utilization.gpu (%): 96.7500 - gpu_id: 0/memory.used (MiB): 23879.3125 - gpu_id: 0/memory.free (MiB): 342.5000 - val_loss: 1.0522 - val_categorical_accuracy: 0.5800\n",
      "Epoch 16/100\n",
      "20/20 [==============================] - 1s 29ms/step - loss: 1.0001 - categorical_accuracy: 0.6362 - gpu_id: 0/utilization.memory (%): 55.0000 - gpu_id: 0/utilization.gpu (%): 96.0000 - gpu_id: 0/memory.used (MiB): 23879.3125 - gpu_id: 0/memory.free (MiB): 342.5000 - val_loss: 0.9860 - val_categorical_accuracy: 0.6500\n",
      "Epoch 17/100\n",
      "20/20 [==============================] - 1s 29ms/step - loss: 0.9511 - categorical_accuracy: 0.6535 - gpu_id: 0/utilization.memory (%): 55.0000 - gpu_id: 0/utilization.gpu (%): 96.0000 - gpu_id: 0/memory.used (MiB): 23879.3125 - gpu_id: 0/memory.free (MiB): 342.5000 - val_loss: 1.2240 - val_categorical_accuracy: 0.5300\n",
      "Epoch 18/100\n",
      "20/20 [==============================] - 1s 29ms/step - loss: 0.9433 - categorical_accuracy: 0.6600 - gpu_id: 0/utilization.memory (%): 55.0000 - gpu_id: 0/utilization.gpu (%): 96.0000 - gpu_id: 0/memory.used (MiB): 23879.3125 - gpu_id: 0/memory.free (MiB): 342.5000 - val_loss: 1.0307 - val_categorical_accuracy: 0.6800\n",
      "Epoch 19/100\n",
      "20/20 [==============================] - 1s 29ms/step - loss: 0.9014 - categorical_accuracy: 0.6726 - gpu_id: 0/utilization.memory (%): 47.5000 - gpu_id: 0/utilization.gpu (%): 90.7500 - gpu_id: 0/memory.used (MiB): 23845.1875 - gpu_id: 0/memory.free (MiB): 376.6250 - val_loss: 0.9417 - val_categorical_accuracy: 0.6300\n",
      "Epoch 20/100\n",
      "20/20 [==============================] - 1s 29ms/step - loss: 0.8558 - categorical_accuracy: 0.6922 - gpu_id: 0/utilization.memory (%): 45.0000 - gpu_id: 0/utilization.gpu (%): 89.0000 - gpu_id: 0/memory.used (MiB): 23833.8125 - gpu_id: 0/memory.free (MiB): 388.0000 - val_loss: 0.9946 - val_categorical_accuracy: 0.6700\n",
      "Epoch 21/100\n",
      "20/20 [==============================] - 1s 29ms/step - loss: 0.8426 - categorical_accuracy: 0.6955 - gpu_id: 0/utilization.memory (%): 54.0000 - gpu_id: 0/utilization.gpu (%): 95.0000 - gpu_id: 0/memory.used (MiB): 23761.1875 - gpu_id: 0/memory.free (MiB): 460.6250 - val_loss: 0.9761 - val_categorical_accuracy: 0.6700\n",
      "Epoch 22/100\n",
      "20/20 [==============================] - 1s 29ms/step - loss: 0.8038 - categorical_accuracy: 0.7080 - gpu_id: 0/utilization.memory (%): 54.0000 - gpu_id: 0/utilization.gpu (%): 95.2500 - gpu_id: 0/memory.used (MiB): 23753.1875 - gpu_id: 0/memory.free (MiB): 468.6250 - val_loss: 0.8855 - val_categorical_accuracy: 0.6900\n",
      "Epoch 23/100\n",
      "20/20 [==============================] - 1s 29ms/step - loss: 0.8055 - categorical_accuracy: 0.7101 - gpu_id: 0/utilization.memory (%): 54.0000 - gpu_id: 0/utilization.gpu (%): 96.0000 - gpu_id: 0/memory.used (MiB): 23729.1875 - gpu_id: 0/memory.free (MiB): 492.6250 - val_loss: 0.9988 - val_categorical_accuracy: 0.6500\n",
      "Epoch 24/100\n",
      "20/20 [==============================] - 1s 29ms/step - loss: 0.7698 - categorical_accuracy: 0.7246 - gpu_id: 0/utilization.memory (%): 54.5000 - gpu_id: 0/utilization.gpu (%): 96.5000 - gpu_id: 0/memory.used (MiB): 23725.6562 - gpu_id: 0/memory.free (MiB): 496.1562 - val_loss: 0.9544 - val_categorical_accuracy: 0.6400\n",
      "Epoch 25/100\n",
      "20/20 [==============================] - 1s 28ms/step - loss: 0.7395 - categorical_accuracy: 0.7365 - gpu_id: 0/utilization.memory (%): 55.0000 - gpu_id: 0/utilization.gpu (%): 97.0000 - gpu_id: 0/memory.used (MiB): 23722.1250 - gpu_id: 0/memory.free (MiB): 499.6875 - val_loss: 0.9601 - val_categorical_accuracy: 0.6600\n",
      "Epoch 26/100\n",
      "20/20 [==============================] - 1s 29ms/step - loss: 0.7066 - categorical_accuracy: 0.7463 - gpu_id: 0/utilization.memory (%): 50.5000 - gpu_id: 0/utilization.gpu (%): 93.2500 - gpu_id: 0/memory.used (MiB): 23712.9844 - gpu_id: 0/memory.free (MiB): 508.8281 - val_loss: 0.8475 - val_categorical_accuracy: 0.6900\n",
      "Epoch 27/100\n",
      "20/20 [==============================] - 1s 29ms/step - loss: 0.7089 - categorical_accuracy: 0.7461 - gpu_id: 0/utilization.memory (%): 49.0000 - gpu_id: 0/utilization.gpu (%): 92.0000 - gpu_id: 0/memory.used (MiB): 23709.9375 - gpu_id: 0/memory.free (MiB): 511.8750 - val_loss: 0.9628 - val_categorical_accuracy: 0.6900\n",
      "Epoch 28/100\n",
      "20/20 [==============================] - 1s 29ms/step - loss: 0.7023 - categorical_accuracy: 0.7464 - gpu_id: 0/utilization.memory (%): 55.0000 - gpu_id: 0/utilization.gpu (%): 96.0000 - gpu_id: 0/memory.used (MiB): 23709.8125 - gpu_id: 0/memory.free (MiB): 512.0000 - val_loss: 1.1370 - val_categorical_accuracy: 0.6500\n",
      "Epoch 29/100\n",
      "20/20 [==============================] - 1s 29ms/step - loss: 0.6610 - categorical_accuracy: 0.7589 - gpu_id: 0/utilization.memory (%): 55.2000 - gpu_id: 0/utilization.gpu (%): 96.4000 - gpu_id: 0/memory.used (MiB): 23709.8125 - gpu_id: 0/memory.free (MiB): 512.0000 - val_loss: 1.2204 - val_categorical_accuracy: 0.6000\n",
      "Epoch 30/100\n",
      "20/20 [==============================] - 1s 30ms/step - loss: 0.6535 - categorical_accuracy: 0.7588 - gpu_id: 0/utilization.memory (%): 56.0000 - gpu_id: 0/utilization.gpu (%): 98.0000 - gpu_id: 0/memory.used (MiB): 23709.8125 - gpu_id: 0/memory.free (MiB): 512.0000 - val_loss: 0.9891 - val_categorical_accuracy: 0.6900\n",
      "Epoch 31/100\n",
      "20/20 [==============================] - 1s 29ms/step - loss: 0.6175 - categorical_accuracy: 0.7730 - gpu_id: 0/utilization.memory (%): 51.0000 - gpu_id: 0/utilization.gpu (%): 94.0000 - gpu_id: 0/memory.used (MiB): 23709.8125 - gpu_id: 0/memory.free (MiB): 512.0000 - val_loss: 0.9390 - val_categorical_accuracy: 0.6500\n",
      "Epoch 32/100\n",
      "20/20 [==============================] - 1s 29ms/step - loss: 0.6225 - categorical_accuracy: 0.7756 - gpu_id: 0/utilization.memory (%): 46.0000 - gpu_id: 0/utilization.gpu (%): 90.0000 - gpu_id: 0/memory.used (MiB): 23709.8125 - gpu_id: 0/memory.free (MiB): 512.0000 - val_loss: 0.9780 - val_categorical_accuracy: 0.6600\n",
      "Epoch 33/100\n",
      "20/20 [==============================] - 1s 30ms/step - loss: 0.5837 - categorical_accuracy: 0.7892 - gpu_id: 0/utilization.memory (%): 49.0000 - gpu_id: 0/utilization.gpu (%): 92.2500 - gpu_id: 0/memory.used (MiB): 23709.8125 - gpu_id: 0/memory.free (MiB): 512.0000 - val_loss: 0.8549 - val_categorical_accuracy: 0.7100\n",
      "Epoch 34/100\n",
      "20/20 [==============================] - 1s 29ms/step - loss: 0.5727 - categorical_accuracy: 0.7975 - gpu_id: 0/utilization.memory (%): 50.0000 - gpu_id: 0/utilization.gpu (%): 93.0000 - gpu_id: 0/memory.used (MiB): 23709.8125 - gpu_id: 0/memory.free (MiB): 512.0000 - val_loss: 1.1430 - val_categorical_accuracy: 0.6600\n",
      "Epoch 35/100\n",
      "20/20 [==============================] - 1s 29ms/step - loss: 0.5672 - categorical_accuracy: 0.7944 - gpu_id: 0/utilization.memory (%): 47.0000 - gpu_id: 0/utilization.gpu (%): 90.0000 - gpu_id: 0/memory.used (MiB): 23709.8125 - gpu_id: 0/memory.free (MiB): 512.0000 - val_loss: 0.8629 - val_categorical_accuracy: 0.6500\n",
      "Epoch 36/100\n",
      "20/20 [==============================] - 1s 29ms/step - loss: 0.5580 - categorical_accuracy: 0.7963 - gpu_id: 0/utilization.memory (%): 48.7500 - gpu_id: 0/utilization.gpu (%): 91.7500 - gpu_id: 0/memory.used (MiB): 23709.8125 - gpu_id: 0/memory.free (MiB): 512.0000 - val_loss: 0.8221 - val_categorical_accuracy: 0.7200\n",
      "Epoch 37/100\n",
      "20/20 [==============================] - 1s 29ms/step - loss: 0.5346 - categorical_accuracy: 0.8101 - gpu_id: 0/utilization.memory (%): 54.0000 - gpu_id: 0/utilization.gpu (%): 97.0000 - gpu_id: 0/memory.used (MiB): 23709.8125 - gpu_id: 0/memory.free (MiB): 512.0000 - val_loss: 0.8771 - val_categorical_accuracy: 0.6600\n",
      "Epoch 38/100\n",
      "20/20 [==============================] - 1s 29ms/step - loss: 0.5150 - categorical_accuracy: 0.8126 - gpu_id: 0/utilization.memory (%): 54.0000 - gpu_id: 0/utilization.gpu (%): 97.0000 - gpu_id: 0/memory.used (MiB): 23709.8125 - gpu_id: 0/memory.free (MiB): 512.0000 - val_loss: 1.1064 - val_categorical_accuracy: 0.6500\n",
      "Epoch 39/100\n",
      "20/20 [==============================] - 1s 30ms/step - loss: 0.5499 - categorical_accuracy: 0.8032 - gpu_id: 0/utilization.memory (%): 54.0000 - gpu_id: 0/utilization.gpu (%): 97.0000 - gpu_id: 0/memory.used (MiB): 23709.8125 - gpu_id: 0/memory.free (MiB): 512.0000 - val_loss: 1.0866 - val_categorical_accuracy: 0.6200\n",
      "Epoch 40/100\n",
      "20/20 [==============================] - 1s 30ms/step - loss: 0.5398 - categorical_accuracy: 0.8037 - gpu_id: 0/utilization.memory (%): 47.2500 - gpu_id: 0/utilization.gpu (%): 91.0000 - gpu_id: 0/memory.used (MiB): 23709.8125 - gpu_id: 0/memory.free (MiB): 512.0000 - val_loss: 1.1214 - val_categorical_accuracy: 0.6100\n",
      "Epoch 41/100\n",
      "20/20 [==============================] - 1s 29ms/step - loss: 0.4992 - categorical_accuracy: 0.8191 - gpu_id: 0/utilization.memory (%): 45.0000 - gpu_id: 0/utilization.gpu (%): 89.0000 - gpu_id: 0/memory.used (MiB): 23709.8125 - gpu_id: 0/memory.free (MiB): 512.0000 - val_loss: 0.8930 - val_categorical_accuracy: 0.7300\n",
      "Epoch 42/100\n",
      "20/20 [==============================] - 1s 29ms/step - loss: 0.4943 - categorical_accuracy: 0.8183 - gpu_id: 0/utilization.memory (%): 55.0000 - gpu_id: 0/utilization.gpu (%): 97.0000 - gpu_id: 0/memory.used (MiB): 23709.8125 - gpu_id: 0/memory.free (MiB): 512.0000 - val_loss: 1.0611 - val_categorical_accuracy: 0.6600\n",
      "Epoch 43/100\n",
      "20/20 [==============================] - 1s 29ms/step - loss: 0.4601 - categorical_accuracy: 0.8317 - gpu_id: 0/utilization.memory (%): 54.7500 - gpu_id: 0/utilization.gpu (%): 97.0000 - gpu_id: 0/memory.used (MiB): 23709.8125 - gpu_id: 0/memory.free (MiB): 512.0000 - val_loss: 0.7972 - val_categorical_accuracy: 0.7600\n",
      "Epoch 44/100\n",
      "20/20 [==============================] - 1s 29ms/step - loss: 0.4496 - categorical_accuracy: 0.8386 - gpu_id: 0/utilization.memory (%): 54.0000 - gpu_id: 0/utilization.gpu (%): 97.0000 - gpu_id: 0/memory.used (MiB): 23709.8125 - gpu_id: 0/memory.free (MiB): 512.0000 - val_loss: 1.2554 - val_categorical_accuracy: 0.6200\n",
      "Epoch 45/100\n",
      "20/20 [==============================] - 1s 29ms/step - loss: 0.4311 - categorical_accuracy: 0.8419 - gpu_id: 0/utilization.memory (%): 49.0500 - gpu_id: 0/utilization.gpu (%): 93.1500 - gpu_id: 0/memory.used (MiB): 23709.8125 - gpu_id: 0/memory.free (MiB): 512.0000 - val_loss: 1.1248 - val_categorical_accuracy: 0.6900\n",
      "Epoch 46/100\n",
      "20/20 [==============================] - 1s 29ms/step - loss: 0.4493 - categorical_accuracy: 0.8427 - gpu_id: 0/utilization.memory (%): 45.0000 - gpu_id: 0/utilization.gpu (%): 90.0000 - gpu_id: 0/memory.used (MiB): 23709.8125 - gpu_id: 0/memory.free (MiB): 512.0000 - val_loss: 0.9714 - val_categorical_accuracy: 0.6600\n",
      "Epoch 47/100\n",
      "20/20 [==============================] - 1s 29ms/step - loss: 0.4378 - categorical_accuracy: 0.8436 - gpu_id: 0/utilization.memory (%): 49.0000 - gpu_id: 0/utilization.gpu (%): 93.2000 - gpu_id: 0/memory.used (MiB): 23709.8125 - gpu_id: 0/memory.free (MiB): 512.0000 - val_loss: 1.1873 - val_categorical_accuracy: 0.6100\n",
      "Epoch 48/100\n",
      "20/20 [==============================] - 1s 29ms/step - loss: 0.4135 - categorical_accuracy: 0.8516 - gpu_id: 0/utilization.memory (%): 50.0000 - gpu_id: 0/utilization.gpu (%): 94.0000 - gpu_id: 0/memory.used (MiB): 23709.8125 - gpu_id: 0/memory.free (MiB): 512.0000 - val_loss: 0.9871 - val_categorical_accuracy: 0.7100\n",
      "Epoch 49/100\n",
      "20/20 [==============================] - 1s 36ms/step - loss: 0.3941 - categorical_accuracy: 0.8600 - gpu_id: 0/utilization.memory (%): 54.0000 - gpu_id: 0/utilization.gpu (%): 97.0000 - gpu_id: 0/memory.used (MiB): 23693.8125 - gpu_id: 0/memory.free (MiB): 528.0000 - val_loss: 1.0753 - val_categorical_accuracy: 0.6800\n",
      "Epoch 50/100\n",
      "20/20 [==============================] - 1s 29ms/step - loss: 0.4129 - categorical_accuracy: 0.8533 - gpu_id: 0/utilization.memory (%): 50.0000 - gpu_id: 0/utilization.gpu (%): 95.0000 - gpu_id: 0/memory.used (MiB): 23769.6562 - gpu_id: 0/memory.free (MiB): 452.1562 - val_loss: 0.9709 - val_categorical_accuracy: 0.6300\n",
      "Epoch 51/100\n",
      "20/20 [==============================] - 1s 29ms/step - loss: 0.3951 - categorical_accuracy: 0.8592 - gpu_id: 0/utilization.memory (%): 46.0000 - gpu_id: 0/utilization.gpu (%): 93.0000 - gpu_id: 0/memory.used (MiB): 23845.5000 - gpu_id: 0/memory.free (MiB): 376.3125 - val_loss: 1.0349 - val_categorical_accuracy: 0.6600\n",
      "Epoch 52/100\n",
      "20/20 [==============================] - 1s 29ms/step - loss: 0.3881 - categorical_accuracy: 0.8635 - gpu_id: 0/utilization.memory (%): 46.7500 - gpu_id: 0/utilization.gpu (%): 90.0000 - gpu_id: 0/memory.used (MiB): 23845.5000 - gpu_id: 0/memory.free (MiB): 376.3125 - val_loss: 0.9901 - val_categorical_accuracy: 0.7100\n",
      "Epoch 53/100\n",
      "20/20 [==============================] - 1s 30ms/step - loss: 0.3700 - categorical_accuracy: 0.8704 - gpu_id: 0/utilization.memory (%): 47.0000 - gpu_id: 0/utilization.gpu (%): 89.0000 - gpu_id: 0/memory.used (MiB): 23845.5000 - gpu_id: 0/memory.free (MiB): 376.3125 - val_loss: 1.0788 - val_categorical_accuracy: 0.6900\n",
      "Epoch 54/100\n",
      "20/20 [==============================] - 1s 29ms/step - loss: 0.3845 - categorical_accuracy: 0.8675 - gpu_id: 0/utilization.memory (%): 50.0000 - gpu_id: 0/utilization.gpu (%): 92.0000 - gpu_id: 0/memory.used (MiB): 23775.5625 - gpu_id: 0/memory.free (MiB): 446.2500 - val_loss: 1.0532 - val_categorical_accuracy: 0.6700\n",
      "Epoch 55/100\n",
      "20/20 [==============================] - 1s 29ms/step - loss: 0.3808 - categorical_accuracy: 0.8683 - gpu_id: 0/utilization.memory (%): 51.2000 - gpu_id: 0/utilization.gpu (%): 92.8000 - gpu_id: 0/memory.used (MiB): 23775.5625 - gpu_id: 0/memory.free (MiB): 446.2500 - val_loss: 1.0402 - val_categorical_accuracy: 0.6500\n",
      "Epoch 56/100\n",
      "20/20 [==============================] - 1s 29ms/step - loss: 0.3518 - categorical_accuracy: 0.8757 - gpu_id: 0/utilization.memory (%): 56.0000 - gpu_id: 0/utilization.gpu (%): 96.0000 - gpu_id: 0/memory.used (MiB): 23775.5625 - gpu_id: 0/memory.free (MiB): 446.2500 - val_loss: 0.9734 - val_categorical_accuracy: 0.6600\n",
      "Epoch 57/100\n",
      "20/20 [==============================] - 1s 30ms/step - loss: 0.3359 - categorical_accuracy: 0.8811 - gpu_id: 0/utilization.memory (%): 55.5000 - gpu_id: 0/utilization.gpu (%): 96.5000 - gpu_id: 0/memory.used (MiB): 23775.5625 - gpu_id: 0/memory.free (MiB): 446.2500 - val_loss: 0.9989 - val_categorical_accuracy: 0.6800\n",
      "Epoch 58/100\n",
      "20/20 [==============================] - 1s 29ms/step - loss: 0.3430 - categorical_accuracy: 0.8790 - gpu_id: 0/utilization.memory (%): 55.0000 - gpu_id: 0/utilization.gpu (%): 97.0000 - gpu_id: 0/memory.used (MiB): 23775.5625 - gpu_id: 0/memory.free (MiB): 446.2500 - val_loss: 1.0086 - val_categorical_accuracy: 0.7100\n",
      "Epoch 59/100\n",
      "20/20 [==============================] - 1s 29ms/step - loss: 0.3529 - categorical_accuracy: 0.8761 - gpu_id: 0/utilization.memory (%): 48.2500 - gpu_id: 0/utilization.gpu (%): 91.0000 - gpu_id: 0/memory.used (MiB): 23774.5312 - gpu_id: 0/memory.free (MiB): 447.2812 - val_loss: 1.0152 - val_categorical_accuracy: 0.6400\n",
      "Epoch 60/100\n",
      "20/20 [==============================] - 1s 29ms/step - loss: 0.3476 - categorical_accuracy: 0.8776 - gpu_id: 0/utilization.memory (%): 46.0000 - gpu_id: 0/utilization.gpu (%): 89.0000 - gpu_id: 0/memory.used (MiB): 23774.1875 - gpu_id: 0/memory.free (MiB): 447.6250 - val_loss: 1.1002 - val_categorical_accuracy: 0.6400\n",
      "Epoch 61/100\n",
      "20/20 [==============================] - 1s 29ms/step - loss: 0.3318 - categorical_accuracy: 0.8842 - gpu_id: 0/utilization.memory (%): 55.0000 - gpu_id: 0/utilization.gpu (%): 97.0000 - gpu_id: 0/memory.used (MiB): 23774.1875 - gpu_id: 0/memory.free (MiB): 447.6250 - val_loss: 0.8425 - val_categorical_accuracy: 0.7300\n",
      "Epoch 62/100\n",
      "20/20 [==============================] - 1s 29ms/step - loss: 0.3376 - categorical_accuracy: 0.8789 - gpu_id: 0/utilization.memory (%): 55.0000 - gpu_id: 0/utilization.gpu (%): 96.7500 - gpu_id: 0/memory.used (MiB): 23757.5156 - gpu_id: 0/memory.free (MiB): 464.2969 - val_loss: 0.9067 - val_categorical_accuracy: 0.7400\n",
      "Epoch 63/100\n",
      "20/20 [==============================] - 1s 29ms/step - loss: 0.3052 - categorical_accuracy: 0.8933 - gpu_id: 0/utilization.memory (%): 55.0000 - gpu_id: 0/utilization.gpu (%): 96.0000 - gpu_id: 0/memory.used (MiB): 23707.5000 - gpu_id: 0/memory.free (MiB): 514.3125 - val_loss: 1.2562 - val_categorical_accuracy: 0.6300\n",
      "Epoch 64/100\n",
      "20/20 [==============================] - 1s 29ms/step - loss: 0.3259 - categorical_accuracy: 0.8844 - gpu_id: 0/utilization.memory (%): 51.0000 - gpu_id: 0/utilization.gpu (%): 93.5000 - gpu_id: 0/memory.used (MiB): 23707.5000 - gpu_id: 0/memory.free (MiB): 514.3125 - val_loss: 1.0481 - val_categorical_accuracy: 0.6800\n",
      "Epoch 65/100\n",
      "20/20 [==============================] - 1s 28ms/step - loss: 0.2900 - categorical_accuracy: 0.8999 - gpu_id: 0/utilization.memory (%): 47.0000 - gpu_id: 0/utilization.gpu (%): 91.0000 - gpu_id: 0/memory.used (MiB): 23707.5000 - gpu_id: 0/memory.free (MiB): 514.3125 - val_loss: 1.2796 - val_categorical_accuracy: 0.6800\n",
      "Epoch 66/100\n",
      "20/20 [==============================] - 1s 29ms/step - loss: 0.3295 - categorical_accuracy: 0.8863 - gpu_id: 0/utilization.memory (%): 47.7000 - gpu_id: 0/utilization.gpu (%): 90.3000 - gpu_id: 0/memory.used (MiB): 23707.5000 - gpu_id: 0/memory.free (MiB): 514.3125 - val_loss: 1.3582 - val_categorical_accuracy: 0.6300\n",
      "Epoch 67/100\n",
      "20/20 [==============================] - 1s 29ms/step - loss: 0.3063 - categorical_accuracy: 0.8930 - gpu_id: 0/utilization.memory (%): 48.0000 - gpu_id: 0/utilization.gpu (%): 90.0000 - gpu_id: 0/memory.used (MiB): 23707.5000 - gpu_id: 0/memory.free (MiB): 514.3125 - val_loss: 1.1045 - val_categorical_accuracy: 0.7200\n",
      "Epoch 68/100\n",
      "20/20 [==============================] - 1s 30ms/step - loss: 0.3192 - categorical_accuracy: 0.8916 - gpu_id: 0/utilization.memory (%): 48.9500 - gpu_id: 0/utilization.gpu (%): 90.9500 - gpu_id: 0/memory.used (MiB): 23773.4062 - gpu_id: 0/memory.free (MiB): 448.4062 - val_loss: 1.0707 - val_categorical_accuracy: 0.6800\n",
      "Epoch 69/100\n",
      "20/20 [==============================] - 1s 29ms/step - loss: 0.3085 - categorical_accuracy: 0.8918 - gpu_id: 0/utilization.memory (%): 50.2000 - gpu_id: 0/utilization.gpu (%): 92.2000 - gpu_id: 0/memory.used (MiB): 23776.8750 - gpu_id: 0/memory.free (MiB): 444.9375 - val_loss: 1.3392 - val_categorical_accuracy: 0.6700\n",
      "Epoch 70/100\n",
      "20/20 [==============================] - 1s 29ms/step - loss: 0.3011 - categorical_accuracy: 0.8943 - gpu_id: 0/utilization.memory (%): 55.0000 - gpu_id: 0/utilization.gpu (%): 97.0000 - gpu_id: 0/memory.used (MiB): 23776.8750 - gpu_id: 0/memory.free (MiB): 444.9375 - val_loss: 1.1377 - val_categorical_accuracy: 0.6900\n",
      "Epoch 71/100\n",
      "20/20 [==============================] - 1s 30ms/step - loss: 0.2955 - categorical_accuracy: 0.8979 - gpu_id: 0/utilization.memory (%): 54.5500 - gpu_id: 0/utilization.gpu (%): 97.0000 - gpu_id: 0/memory.used (MiB): 23776.8750 - gpu_id: 0/memory.free (MiB): 444.9375 - val_loss: 1.2561 - val_categorical_accuracy: 0.6800\n",
      "Epoch 72/100\n",
      "20/20 [==============================] - 1s 44ms/step - loss: 0.3007 - categorical_accuracy: 0.8960 - gpu_id: 0/utilization.memory (%): 54.0000 - gpu_id: 0/utilization.gpu (%): 97.0000 - gpu_id: 0/memory.used (MiB): 23776.8750 - gpu_id: 0/memory.free (MiB): 444.9375 - val_loss: 1.0708 - val_categorical_accuracy: 0.7500\n",
      "Epoch 73/100\n",
      "20/20 [==============================] - 1s 68ms/step - loss: 0.3059 - categorical_accuracy: 0.8967 - gpu_id: 0/utilization.memory (%): 9.4000 - gpu_id: 0/utilization.gpu (%): 100.0000 - gpu_id: 0/memory.used (MiB): 23899.5500 - gpu_id: 0/memory.free (MiB): 322.2625 - val_loss: 1.3773 - val_categorical_accuracy: 0.6600\n",
      "Epoch 74/100\n",
      "20/20 [==============================] - 1s 31ms/step - loss: 0.2944 - categorical_accuracy: 0.8966 - gpu_id: 0/utilization.memory (%): 19.0000 - gpu_id: 0/utilization.gpu (%): 100.0000 - gpu_id: 0/memory.used (MiB): 23834.2500 - gpu_id: 0/memory.free (MiB): 387.5625 - val_loss: 1.2550 - val_categorical_accuracy: 0.7200\n",
      "Epoch 75/100\n",
      "20/20 [==============================] - 1s 32ms/step - loss: 0.2919 - categorical_accuracy: 0.8990 - gpu_id: 0/utilization.memory (%): 33.4000 - gpu_id: 0/utilization.gpu (%): 91.9000 - gpu_id: 0/memory.used (MiB): 23803.3125 - gpu_id: 0/memory.free (MiB): 418.5000 - val_loss: 1.1452 - val_categorical_accuracy: 0.6800\n",
      "Epoch 76/100\n",
      "20/20 [==============================] - 1s 29ms/step - loss: 0.2670 - categorical_accuracy: 0.9078 - gpu_id: 0/utilization.memory (%): 38.8000 - gpu_id: 0/utilization.gpu (%): 92.4000 - gpu_id: 0/memory.used (MiB): 23799.8750 - gpu_id: 0/memory.free (MiB): 421.9375 - val_loss: 1.3011 - val_categorical_accuracy: 0.6600\n",
      "Epoch 77/100\n",
      "20/20 [==============================] - 1s 30ms/step - loss: 0.2853 - categorical_accuracy: 0.8999 - gpu_id: 0/utilization.memory (%): 54.0000 - gpu_id: 0/utilization.gpu (%): 98.0000 - gpu_id: 0/memory.used (MiB): 23799.8750 - gpu_id: 0/memory.free (MiB): 421.9375 - val_loss: 1.3849 - val_categorical_accuracy: 0.6700\n",
      "Epoch 78/100\n",
      "20/20 [==============================] - 1s 30ms/step - loss: 0.2689 - categorical_accuracy: 0.9037 - gpu_id: 0/utilization.memory (%): 54.0000 - gpu_id: 0/utilization.gpu (%): 97.5000 - gpu_id: 0/memory.used (MiB): 23799.8750 - gpu_id: 0/memory.free (MiB): 421.9375 - val_loss: 1.3695 - val_categorical_accuracy: 0.6300\n",
      "Epoch 79/100\n",
      "20/20 [==============================] - 1s 30ms/step - loss: 0.2818 - categorical_accuracy: 0.9010 - gpu_id: 0/utilization.memory (%): 54.0000 - gpu_id: 0/utilization.gpu (%): 97.0000 - gpu_id: 0/memory.used (MiB): 23799.8750 - gpu_id: 0/memory.free (MiB): 421.9375 - val_loss: 1.2218 - val_categorical_accuracy: 0.7000\n",
      "Epoch 80/100\n",
      "20/20 [==============================] - 1s 31ms/step - loss: 0.2700 - categorical_accuracy: 0.9053 - gpu_id: 0/utilization.memory (%): 48.4000 - gpu_id: 0/utilization.gpu (%): 90.6000 - gpu_id: 0/memory.used (MiB): 23746.1250 - gpu_id: 0/memory.free (MiB): 475.6875 - val_loss: 1.3405 - val_categorical_accuracy: 0.6500\n",
      "Epoch 81/100\n",
      "20/20 [==============================] - 1s 33ms/step - loss: 0.2647 - categorical_accuracy: 0.9066 - gpu_id: 0/utilization.memory (%): 47.4500 - gpu_id: 0/utilization.gpu (%): 90.3500 - gpu_id: 0/memory.used (MiB): 23729.0687 - gpu_id: 0/memory.free (MiB): 492.7437 - val_loss: 1.3068 - val_categorical_accuracy: 0.6700\n",
      "Epoch 82/100\n",
      "20/20 [==============================] - 1s 30ms/step - loss: 0.2552 - categorical_accuracy: 0.9130 - gpu_id: 0/utilization.memory (%): 50.0000 - gpu_id: 0/utilization.gpu (%): 98.0000 - gpu_id: 0/memory.used (MiB): 23708.5625 - gpu_id: 0/memory.free (MiB): 513.2500 - val_loss: 1.2677 - val_categorical_accuracy: 0.7300\n",
      "Epoch 83/100\n",
      "20/20 [==============================] - 1s 29ms/step - loss: 0.2539 - categorical_accuracy: 0.9102 - gpu_id: 0/utilization.memory (%): 50.9000 - gpu_id: 0/utilization.gpu (%): 96.6500 - gpu_id: 0/memory.used (MiB): 23707.7750 - gpu_id: 0/memory.free (MiB): 514.0375 - val_loss: 1.3755 - val_categorical_accuracy: 0.6600\n",
      "Epoch 84/100\n",
      "20/20 [==============================] - 1s 30ms/step - loss: 0.2608 - categorical_accuracy: 0.9081 - gpu_id: 0/utilization.memory (%): 52.0000 - gpu_id: 0/utilization.gpu (%): 95.0000 - gpu_id: 0/memory.used (MiB): 23706.8125 - gpu_id: 0/memory.free (MiB): 515.0000 - val_loss: 1.3560 - val_categorical_accuracy: 0.7000\n",
      "Epoch 85/100\n",
      "20/20 [==============================] - 1s 31ms/step - loss: 0.2582 - categorical_accuracy: 0.9118 - gpu_id: 0/utilization.memory (%): 49.0000 - gpu_id: 0/utilization.gpu (%): 91.2500 - gpu_id: 0/memory.used (MiB): 23706.8125 - gpu_id: 0/memory.free (MiB): 515.0000 - val_loss: 1.1388 - val_categorical_accuracy: 0.7100\n",
      "Epoch 86/100\n",
      "20/20 [==============================] - 1s 29ms/step - loss: 0.2627 - categorical_accuracy: 0.9091 - gpu_id: 0/utilization.memory (%): 48.0000 - gpu_id: 0/utilization.gpu (%): 90.0000 - gpu_id: 0/memory.used (MiB): 23706.8125 - gpu_id: 0/memory.free (MiB): 515.0000 - val_loss: 1.0439 - val_categorical_accuracy: 0.7000\n",
      "Epoch 87/100\n",
      "20/20 [==============================] - 1s 30ms/step - loss: 0.2518 - categorical_accuracy: 0.9152 - gpu_id: 0/utilization.memory (%): 51.0000 - gpu_id: 0/utilization.gpu (%): 93.0000 - gpu_id: 0/memory.used (MiB): 23706.8125 - gpu_id: 0/memory.free (MiB): 515.0000 - val_loss: 1.3703 - val_categorical_accuracy: 0.6800\n",
      "Epoch 88/100\n",
      "20/20 [==============================] - 1s 30ms/step - loss: 0.2637 - categorical_accuracy: 0.9135 - gpu_id: 0/utilization.memory (%): 51.3000 - gpu_id: 0/utilization.gpu (%): 94.5000 - gpu_id: 0/memory.used (MiB): 23711.4437 - gpu_id: 0/memory.free (MiB): 510.3687 - val_loss: 1.3919 - val_categorical_accuracy: 0.7400\n",
      "Epoch 89/100\n",
      "20/20 [==============================] - 1s 29ms/step - loss: 0.2640 - categorical_accuracy: 0.9113 - gpu_id: 0/utilization.memory (%): 52.0000 - gpu_id: 0/utilization.gpu (%): 98.0000 - gpu_id: 0/memory.used (MiB): 23722.2500 - gpu_id: 0/memory.free (MiB): 499.5625 - val_loss: 1.3337 - val_categorical_accuracy: 0.6500\n",
      "Epoch 90/100\n",
      "20/20 [==============================] - 1s 30ms/step - loss: 0.2130 - categorical_accuracy: 0.9277 - gpu_id: 0/utilization.memory (%): 51.4000 - gpu_id: 0/utilization.gpu (%): 96.2000 - gpu_id: 0/memory.used (MiB): 23722.1750 - gpu_id: 0/memory.free (MiB): 499.6375 - val_loss: 1.0178 - val_categorical_accuracy: 0.7400\n",
      "Epoch 91/100\n",
      "20/20 [==============================] - 1s 30ms/step - loss: 0.2568 - categorical_accuracy: 0.9116 - gpu_id: 0/utilization.memory (%): 51.0000 - gpu_id: 0/utilization.gpu (%): 95.0000 - gpu_id: 0/memory.used (MiB): 23722.1250 - gpu_id: 0/memory.free (MiB): 499.6875 - val_loss: 1.0256 - val_categorical_accuracy: 0.6800\n",
      "Epoch 92/100\n",
      "20/20 [==============================] - 1s 30ms/step - loss: 0.2579 - categorical_accuracy: 0.9129 - gpu_id: 0/utilization.memory (%): 50.1000 - gpu_id: 0/utilization.gpu (%): 94.1000 - gpu_id: 0/memory.used (MiB): 23721.7313 - gpu_id: 0/memory.free (MiB): 500.0813 - val_loss: 1.1849 - val_categorical_accuracy: 0.7300\n",
      "Epoch 93/100\n",
      "20/20 [==============================] - 1s 32ms/step - loss: 0.2278 - categorical_accuracy: 0.9198 - gpu_id: 0/utilization.memory (%): 48.8000 - gpu_id: 0/utilization.gpu (%): 95.5000 - gpu_id: 0/memory.used (MiB): 23721.6875 - gpu_id: 0/memory.free (MiB): 500.1250 - val_loss: 0.9831 - val_categorical_accuracy: 0.7400\n",
      "Epoch 94/100\n",
      "20/20 [==============================] - 1s 30ms/step - loss: 0.2235 - categorical_accuracy: 0.9247 - gpu_id: 0/utilization.memory (%): 46.0000 - gpu_id: 0/utilization.gpu (%): 99.0000 - gpu_id: 0/memory.used (MiB): 23721.6875 - gpu_id: 0/memory.free (MiB): 500.1250 - val_loss: 1.4615 - val_categorical_accuracy: 0.6700\n",
      "Epoch 95/100\n",
      "20/20 [==============================] - 1s 31ms/step - loss: 0.2526 - categorical_accuracy: 0.9162 - gpu_id: 0/utilization.memory (%): 46.6000 - gpu_id: 0/utilization.gpu (%): 93.6000 - gpu_id: 0/memory.used (MiB): 23721.6875 - gpu_id: 0/memory.free (MiB): 500.1250 - val_loss: 1.1291 - val_categorical_accuracy: 0.7000\n",
      "Epoch 96/100\n",
      "20/20 [==============================] - 1s 30ms/step - loss: 0.2450 - categorical_accuracy: 0.9145 - gpu_id: 0/utilization.memory (%): 47.0000 - gpu_id: 0/utilization.gpu (%): 90.0000 - gpu_id: 0/memory.used (MiB): 23721.6875 - gpu_id: 0/memory.free (MiB): 500.1250 - val_loss: 1.1475 - val_categorical_accuracy: 0.7300\n",
      "Epoch 97/100\n",
      "20/20 [==============================] - 1s 31ms/step - loss: 0.2183 - categorical_accuracy: 0.9256 - gpu_id: 0/utilization.memory (%): 53.6500 - gpu_id: 0/utilization.gpu (%): 96.6500 - gpu_id: 0/memory.used (MiB): 23706.4875 - gpu_id: 0/memory.free (MiB): 515.3250 - val_loss: 1.1775 - val_categorical_accuracy: 0.7300\n",
      "Epoch 98/100\n",
      "20/20 [==============================] - 1s 29ms/step - loss: 0.2138 - categorical_accuracy: 0.9278 - gpu_id: 0/utilization.memory (%): 54.3000 - gpu_id: 0/utilization.gpu (%): 97.0000 - gpu_id: 0/memory.used (MiB): 23705.6875 - gpu_id: 0/memory.free (MiB): 516.1250 - val_loss: 1.2376 - val_categorical_accuracy: 0.6800\n",
      "Epoch 99/100\n",
      "20/20 [==============================] - 1s 30ms/step - loss: 0.2300 - categorical_accuracy: 0.9232 - gpu_id: 0/utilization.memory (%): 55.0000 - gpu_id: 0/utilization.gpu (%): 97.0000 - gpu_id: 0/memory.used (MiB): 23705.6875 - gpu_id: 0/memory.free (MiB): 516.1250 - val_loss: 1.3450 - val_categorical_accuracy: 0.7300\n",
      "Epoch 100/100\n",
      "20/20 [==============================] - 1s 30ms/step - loss: 0.2366 - categorical_accuracy: 0.9187 - gpu_id: 0/utilization.memory (%): 49.6000 - gpu_id: 0/utilization.gpu (%): 93.4000 - gpu_id: 0/memory.used (MiB): 23705.6875 - gpu_id: 0/memory.free (MiB): 516.1250 - val_loss: 1.1619 - val_categorical_accuracy: 0.7200\n",
      "16/16 [==============================] - 0s 3ms/step - loss: 1.3948 - categorical_accuracy: 0.6940\n",
      "test_accuracy =  0.6940000057220459\n",
      "test_loss =  1.394784927368164\n"
     ]
    }
   ],
   "source": [
    "from tensorflow.keras.optimizers import Adam\n",
    "from tensorflow.keras.metrics import CategoricalAccuracy\n",
    "from tensorflow.keras.losses import CategoricalCrossentropy\n",
    "from nvitop.callbacks.keras import GpuStatsLogger\n",
    "\n",
    "# 1.1 encode the training labels in one-hot\n",
    "train_labels_one_hot = tf.raw_ops.OneHot(indices=train_labels, depth=10, on_value=1.0, off_value=.0)\n",
    "test_labels_one_hot = tf.raw_ops.OneHot(indices=test_labels, depth=10, on_value=1.0, off_value=.0)\n",
    "\n",
    "# 1.2 define the cnn\n",
    "cnn_model = tf.keras.models.Sequential([\n",
    "  tf.keras.layers.InputLayer((32, 32, 3)),\n",
    "  tf.keras.layers.Conv2D(filters=32, kernel_size=3, padding='same', strides=1),\n",
    "  tf.keras.layers.LeakyReLU(),\n",
    "  tf.keras.layers.Dropout(0.3),\n",
    "  tf.keras.layers.Conv2D(filters=32, kernel_size=3, padding='same', strides=1),\n",
    "  tf.keras.layers.LeakyReLU(),\n",
    "  tf.keras.layers.Dropout(0.3),\n",
    "  tf.keras.layers.Conv2D(filters=64, kernel_size=3, padding='same', strides=2),\n",
    "  tf.keras.layers.LeakyReLU(),\n",
    "  tf.keras.layers.Dropout(0.3),\n",
    "  tf.keras.layers.Conv2D(filters=64, kernel_size=3, padding='same', strides=1),\n",
    "  tf.keras.layers.LeakyReLU(),\n",
    "  tf.keras.layers.Dropout(0.3),\n",
    "  tf.keras.layers.Conv2D(filters=64, kernel_size=3, padding='same', strides=1),\n",
    "  tf.keras.layers.LeakyReLU(),\n",
    "  tf.keras.layers.Dropout(0.3),\n",
    "  tf.keras.layers.Conv2D(filters=128, kernel_size=3, padding='same', strides=2),\n",
    "  tf.keras.layers.LeakyReLU(),\n",
    "  tf.keras.layers.Dropout(0.3),\n",
    "  tf.keras.layers.Conv2D(filters=128, kernel_size=3, padding='same', strides=1),\n",
    "  tf.keras.layers.LeakyReLU(),\n",
    "  tf.keras.layers.Dropout(0.3),\n",
    "  tf.keras.layers.Conv2D(filters=128, kernel_size=3, padding='same', strides=1),\n",
    "  tf.keras.layers.LeakyReLU(),\n",
    "  tf.keras.layers.Dropout(0.3),\n",
    "  tf.keras.layers.Conv2D(filters=256, kernel_size=3, padding='same', strides=2),\n",
    "  tf.keras.layers.LeakyReLU(),\n",
    "  tf.keras.layers.Dropout(0.3),\n",
    "  tf.keras.layers.Flatten(),\n",
    "  tf.keras.layers.Dense(2048),\n",
    "  tf.keras.layers.LeakyReLU(),\n",
    "  tf.keras.layers.Dropout(0.3),\n",
    "  tf.keras.layers.Dense(2048),\n",
    "  tf.keras.layers.LeakyReLU(),\n",
    "  tf.keras.layers.Dropout(0.3),\n",
    "  tf.keras.layers.Dense(10, activation='softmax')\n",
    "])\n",
    "\n",
    "# 1.3 compile the cnn\n",
    "cnn_model.compile(optimizer=Adam(learning_rate=1e-3, weight_decay=1e-4),\n",
    "                  loss=CategoricalCrossentropy(),\n",
    "                  metrics=[CategoricalAccuracy()])\n",
    "\n",
    "# 1.4 train the cnn\n",
    "valid_fr = 1e-2\n",
    "train_in = valid_in = int((1 - valid_fr) * train_images.shape[0])\n",
    "cnn_model.fit(train_images[:train_in], train_labels_one_hot[:train_in],\n",
    "              validation_data=(train_images[train_in:], train_labels_one_hot[train_in:]),\n",
    "              batch_size=512, epochs=100, initial_epoch=0,\n",
    "              callbacks=[\n",
    "                tf.keras.callbacks.TensorBoard(ROOT_PATH + '/logs', write_graph=True),\n",
    "                GpuStatsLogger(['/gpu:0'])\n",
    "              ])\n",
    "\n",
    "# 1.5 evaluate the cnn\n",
    "test_loss, test_accuracy = cnn_model.evaluate(test_images, test_labels_one_hot, batch_size=128)\n",
    "print('test_accuracy = ', test_accuracy)\n",
    "print('test_loss = ', test_loss)"
   ]
  },
  {
   "cell_type": "markdown",
   "metadata": {},
   "source": [
    "## 2. Train again the previous network, but without the dropout layer. What do you notice?"
   ]
  },
  {
   "cell_type": "code",
   "execution_count": 41,
   "metadata": {},
   "outputs": [
    {
     "name": "stdout",
     "output_type": "stream",
     "text": [
      "Epoch 1/20\n",
      "  1/141 [..............................] - ETA: 3:26 - loss: 2.3024 - categorical_accuracy: 0.1094 - gpu_id: 0/utilization.memory (%): 5.0000 - gpu_id: 0/utilization.gpu (%): 44.0000 - gpu_id: 0/memory.used (MiB): 23788.9375 - gpu_id: 0/memory.free (MiB): 432.8750WARNING:tensorflow:Callback method `on_train_batch_end` is slow compared to the batch time (batch time: 0.0051s vs `on_train_batch_end` time: 0.0072s). Check your callbacks.\n",
      "141/141 [==============================] - 3s 8ms/step - loss: 1.8714 - categorical_accuracy: 0.3050 - gpu_id: 0/utilization.memory (%): 5.0000 - gpu_id: 0/utilization.gpu (%): 44.0000 - gpu_id: 0/memory.used (MiB): 23788.9375 - gpu_id: 0/memory.free (MiB): 432.8750 - val_loss: 1.7082 - val_categorical_accuracy: 0.3730\n",
      "Epoch 2/20\n",
      "141/141 [==============================] - 1s 6ms/step - loss: 1.5500 - categorical_accuracy: 0.4361 - gpu_id: 0/utilization.memory (%): 27.0000 - gpu_id: 0/utilization.gpu (%): 83.0000 - gpu_id: 0/memory.used (MiB): 23850.4375 - gpu_id: 0/memory.free (MiB): 371.3750 - val_loss: 1.4436 - val_categorical_accuracy: 0.4540\n",
      "Epoch 3/20\n",
      "141/141 [==============================] - 1s 6ms/step - loss: 1.3713 - categorical_accuracy: 0.4976 - gpu_id: 0/utilization.memory (%): 23.9929 - gpu_id: 0/utilization.gpu (%): 77.7376 - gpu_id: 0/memory.used (MiB): 23781.2744 - gpu_id: 0/memory.free (MiB): 440.5381 - val_loss: 1.3239 - val_categorical_accuracy: 0.5140\n",
      "Epoch 4/20\n",
      "141/141 [==============================] - 1s 6ms/step - loss: 1.2284 - categorical_accuracy: 0.5607 - gpu_id: 0/utilization.memory (%): 25.4468 - gpu_id: 0/utilization.gpu (%): 79.4255 - gpu_id: 0/memory.used (MiB): 23758.4375 - gpu_id: 0/memory.free (MiB): 463.3750 - val_loss: 1.3459 - val_categorical_accuracy: 0.4980\n",
      "Epoch 5/20\n",
      "141/141 [==============================] - 1s 6ms/step - loss: 1.1134 - categorical_accuracy: 0.5977 - gpu_id: 0/utilization.memory (%): 28.0000 - gpu_id: 0/utilization.gpu (%): 83.0000 - gpu_id: 0/memory.used (MiB): 23758.4375 - gpu_id: 0/memory.free (MiB): 463.3750 - val_loss: 1.2481 - val_categorical_accuracy: 0.5410\n",
      "Epoch 6/20\n",
      "141/141 [==============================] - 1s 6ms/step - loss: 0.9861 - categorical_accuracy: 0.6468 - gpu_id: 0/utilization.memory (%): 27.7872 - gpu_id: 0/utilization.gpu (%): 82.5035 - gpu_id: 0/memory.used (MiB): 23763.9694 - gpu_id: 0/memory.free (MiB): 457.8431 - val_loss: 1.1746 - val_categorical_accuracy: 0.5850\n",
      "Epoch 7/20\n",
      "141/141 [==============================] - 1s 6ms/step - loss: 0.8628 - categorical_accuracy: 0.6936 - gpu_id: 0/utilization.memory (%): 25.0000 - gpu_id: 0/utilization.gpu (%): 76.0000 - gpu_id: 0/memory.used (MiB): 23836.4375 - gpu_id: 0/memory.free (MiB): 385.3750 - val_loss: 1.3039 - val_categorical_accuracy: 0.5700\n",
      "Epoch 8/20\n",
      "141/141 [==============================] - 1s 6ms/step - loss: 0.7602 - categorical_accuracy: 0.7298 - gpu_id: 0/utilization.memory (%): 22.1489 - gpu_id: 0/utilization.gpu (%): 76.0000 - gpu_id: 0/memory.used (MiB): 23692.9340 - gpu_id: 0/memory.free (MiB): 528.8785 - val_loss: 1.3151 - val_categorical_accuracy: 0.6000\n",
      "Epoch 9/20\n",
      "141/141 [==============================] - 1s 6ms/step - loss: 0.6932 - categorical_accuracy: 0.7537 - gpu_id: 0/utilization.memory (%): 24.8936 - gpu_id: 0/utilization.gpu (%): 81.0638 - gpu_id: 0/memory.used (MiB): 23697.0120 - gpu_id: 0/memory.free (MiB): 524.8005 - val_loss: 1.3393 - val_categorical_accuracy: 0.5550\n",
      "Epoch 10/20\n",
      "141/141 [==============================] - 1s 6ms/step - loss: 0.6098 - categorical_accuracy: 0.7859 - gpu_id: 0/utilization.memory (%): 26.9787 - gpu_id: 0/utilization.gpu (%): 83.0000 - gpu_id: 0/memory.used (MiB): 23701.4375 - gpu_id: 0/memory.free (MiB): 520.3750 - val_loss: 1.4932 - val_categorical_accuracy: 0.5720\n",
      "Epoch 11/20\n",
      "141/141 [==============================] - 1s 6ms/step - loss: 0.5547 - categorical_accuracy: 0.8066 - gpu_id: 0/utilization.memory (%): 27.7518 - gpu_id: 0/utilization.gpu (%): 83.2482 - gpu_id: 0/memory.used (MiB): 23701.4375 - gpu_id: 0/memory.free (MiB): 520.3750 - val_loss: 1.5862 - val_categorical_accuracy: 0.5900\n",
      "Epoch 12/20\n",
      "141/141 [==============================] - 1s 6ms/step - loss: 0.4709 - categorical_accuracy: 0.8404 - gpu_id: 0/utilization.memory (%): 27.0355 - gpu_id: 0/utilization.gpu (%): 84.0000 - gpu_id: 0/memory.used (MiB): 23701.4375 - gpu_id: 0/memory.free (MiB): 520.3750 - val_loss: 1.8870 - val_categorical_accuracy: 0.5660\n",
      "Epoch 13/20\n",
      "141/141 [==============================] - 1s 6ms/step - loss: 0.4612 - categorical_accuracy: 0.8394 - gpu_id: 0/utilization.memory (%): 28.0000 - gpu_id: 0/utilization.gpu (%): 84.0000 - gpu_id: 0/memory.used (MiB): 23701.4375 - gpu_id: 0/memory.free (MiB): 520.3750 - val_loss: 1.5734 - val_categorical_accuracy: 0.5920\n",
      "Epoch 14/20\n",
      "141/141 [==============================] - 1s 6ms/step - loss: 0.3896 - categorical_accuracy: 0.8683 - gpu_id: 0/utilization.memory (%): 23.7092 - gpu_id: 0/utilization.gpu (%): 77.1348 - gpu_id: 0/memory.used (MiB): 23676.1219 - gpu_id: 0/memory.free (MiB): 545.6906 - val_loss: 1.8980 - val_categorical_accuracy: 0.5820\n",
      "Epoch 15/20\n",
      "141/141 [==============================] - 1s 6ms/step - loss: 0.3496 - categorical_accuracy: 0.8828 - gpu_id: 0/utilization.memory (%): 25.4397 - gpu_id: 0/utilization.gpu (%): 80.8794 - gpu_id: 0/memory.used (MiB): 23671.9375 - gpu_id: 0/memory.free (MiB): 549.8750 - val_loss: 2.4331 - val_categorical_accuracy: 0.5490\n",
      "Epoch 16/20\n",
      "141/141 [==============================] - 1s 6ms/step - loss: 0.3694 - categorical_accuracy: 0.8768 - gpu_id: 0/utilization.memory (%): 27.3191 - gpu_id: 0/utilization.gpu (%): 84.3191 - gpu_id: 0/memory.used (MiB): 23671.9375 - gpu_id: 0/memory.free (MiB): 549.8750 - val_loss: 2.0191 - val_categorical_accuracy: 0.5590\n",
      "Epoch 17/20\n",
      "141/141 [==============================] - 1s 6ms/step - loss: 0.4323 - categorical_accuracy: 0.8572 - gpu_id: 0/utilization.memory (%): 28.0000 - gpu_id: 0/utilization.gpu (%): 84.9007 - gpu_id: 0/memory.used (MiB): 23671.9375 - gpu_id: 0/memory.free (MiB): 549.8750 - val_loss: 1.9774 - val_categorical_accuracy: 0.5740\n",
      "Epoch 18/20\n",
      "141/141 [==============================] - 1s 6ms/step - loss: 0.3237 - categorical_accuracy: 0.8914 - gpu_id: 0/utilization.memory (%): 28.0000 - gpu_id: 0/utilization.gpu (%): 84.0000 - gpu_id: 0/memory.used (MiB): 23671.9375 - gpu_id: 0/memory.free (MiB): 549.8750 - val_loss: 2.2398 - val_categorical_accuracy: 0.5420\n",
      "Epoch 19/20\n",
      "141/141 [==============================] - 1s 6ms/step - loss: 0.2553 - categorical_accuracy: 0.9166 - gpu_id: 0/utilization.memory (%): 25.0638 - gpu_id: 0/utilization.gpu (%): 80.0851 - gpu_id: 0/memory.used (MiB): 23601.4694 - gpu_id: 0/memory.free (MiB): 620.3431 - val_loss: 2.4187 - val_categorical_accuracy: 0.5740\n",
      "Epoch 20/20\n",
      "141/141 [==============================] - 1s 6ms/step - loss: 0.2814 - categorical_accuracy: 0.9123 - gpu_id: 0/utilization.memory (%): 22.7021 - gpu_id: 0/utilization.gpu (%): 76.1702 - gpu_id: 0/memory.used (MiB): 23599.8418 - gpu_id: 0/memory.free (MiB): 621.9707 - val_loss: 2.6098 - val_categorical_accuracy: 0.5610\n",
      "16/16 [==============================] - 0s 3ms/step - loss: 2.4767 - categorical_accuracy: 0.5675\n",
      "test_accuracy =  0.5674999952316284\n",
      "test_loss =  2.4766592979431152\n"
     ]
    }
   ],
   "source": [
    "from tensorflow.keras.optimizers import Adam\n",
    "from tensorflow.keras.metrics import CategoricalAccuracy\n",
    "from tensorflow.keras.losses import CategoricalCrossentropy\n",
    "from nvitop.callbacks.keras import GpuStatsLogger\n",
    "\n",
    "# 1.1 encode the training labels in one-hot\n",
    "train_labels_one_hot = tf.raw_ops.OneHot(indices=train_labels, depth=10, on_value=1.0, off_value=.0)\n",
    "test_labels_one_hot = tf.raw_ops.OneHot(indices=test_labels, depth=10, on_value=1.0, off_value=.0)\n",
    "\n",
    "# 1.2 define the cnn\n",
    "cnn_model = tf.keras.models.Sequential([\n",
    "  tf.keras.layers.InputLayer((32, 32, 3)),\n",
    "  tf.keras.layers.Conv2D(filters=32, kernel_size=3, padding='same', strides=1),\n",
    "  tf.keras.layers.LeakyReLU(),\n",
    "  tf.keras.layers.Conv2D(filters=32, kernel_size=3, padding='same', strides=1),\n",
    "  tf.keras.layers.LeakyReLU(),\n",
    "  tf.keras.layers.Conv2D(filters=64, kernel_size=3, padding='same', strides=2),\n",
    "  tf.keras.layers.LeakyReLU(),\n",
    "  tf.keras.layers.Conv2D(filters=64, kernel_size=3, padding='same', strides=1),\n",
    "  tf.keras.layers.LeakyReLU(),\n",
    "  tf.keras.layers.Conv2D(filters=64, kernel_size=3, padding='same', strides=1),\n",
    "  tf.keras.layers.LeakyReLU(),\n",
    "  tf.keras.layers.Conv2D(filters=128, kernel_size=3, padding='same', strides=2),\n",
    "  tf.keras.layers.LeakyReLU(),\n",
    "  tf.keras.layers.Conv2D(filters=128, kernel_size=3, padding='same', strides=1),\n",
    "  tf.keras.layers.LeakyReLU(),\n",
    "  tf.keras.layers.Conv2D(filters=128, kernel_size=3, padding='same', strides=1),\n",
    "  tf.keras.layers.LeakyReLU(),\n",
    "  tf.keras.layers.Conv2D(filters=256, kernel_size=3, padding='same', strides=2),\n",
    "  tf.keras.layers.LeakyReLU(),\n",
    "  tf.keras.layers.Flatten(),\n",
    "  tf.keras.layers.Dense(2048),\n",
    "  tf.keras.layers.LeakyReLU(),\n",
    "  tf.keras.layers.Dense(2048),\n",
    "  tf.keras.layers.LeakyReLU(),\n",
    "  tf.keras.layers.Dense(10, activation='softmax')\n",
    "])\n",
    "\n",
    "# 1.3 compile the cnn\n",
    "cnn_model.compile(optimizer=Adam(learning_rate=1e-3),\n",
    "                  loss=CategoricalCrossentropy(),\n",
    "                  metrics=[CategoricalAccuracy()])\n",
    "\n",
    "# 1.4 train the cnn\n",
    "valid_fr = 1e-1\n",
    "train_in = valid_in = int((1 - valid_fr) * train_images.shape[0])\n",
    "cnn_model.fit(train_images[:train_in], train_labels_one_hot[:train_in],\n",
    "              validation_data=(train_images[train_in:], train_labels_one_hot[train_in:]),\n",
    "              batch_size=64, epochs=20, initial_epoch=0,\n",
    "              callbacks=[\n",
    "                tf.keras.callbacks.TensorBoard(ROOT_PATH + '/logs', write_graph=True),\n",
    "                GpuStatsLogger(['/gpu:0'])\n",
    "              ])\n",
    "\n",
    "# 1.5 evaluate the cnn\n",
    "test_loss, test_accuracy = cnn_model.evaluate(test_images, test_labels_one_hot, batch_size=128)\n",
    "print('test_accuracy = ', test_accuracy)\n",
    "print('test_loss = ', test_loss)"
   ]
  }
 ],
 "metadata": {
  "kernelspec": {
   "display_name": "Python 3",
   "language": "python",
   "name": "python3"
  },
  "language_info": {
   "codemirror_mode": {
    "name": "ipython",
    "version": 3
   },
   "file_extension": ".py",
   "mimetype": "text/x-python",
   "name": "python",
   "nbconvert_exporter": "python",
   "pygments_lexer": "ipython3",
   "version": "3.10.6 (main, Nov  2 2022, 18:53:38) [GCC 11.3.0]"
  },
  "vscode": {
   "interpreter": {
    "hash": "31f2aee4e71d21fbe5cf8b01ff0e069b9275f58929596ceb00d14d90e3e16cd6"
   }
  }
 },
 "nbformat": 4,
 "nbformat_minor": 2
}
