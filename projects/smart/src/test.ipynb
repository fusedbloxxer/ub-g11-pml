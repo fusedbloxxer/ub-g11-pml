{
 "cells": [
  {
   "cell_type": "code",
   "execution_count": 2,
   "metadata": {},
   "outputs": [],
   "source": [
    "from modules.blocks import TemporalAttentionNN, SmartDataset\n",
    "import torch.utils.data as data\n",
    "import numpy as ny\n",
    "import typing\n",
    "import torch\n",
    "\n",
    "model = TemporalAttentionNN(3, 20)"
   ]
  },
  {
   "cell_type": "code",
   "execution_count": 3,
   "metadata": {},
   "outputs": [],
   "source": [
    "dataset = data.TensorDataset(torch.zeros((2, 3)))\n",
    "labels = data.TensorDataset(torch.ones((2,)))"
   ]
  },
  {
   "cell_type": "code",
   "execution_count": 4,
   "metadata": {},
   "outputs": [],
   "source": [
    "train_data = ny.ones((7200, 450))\n",
    "valid_data = ny.ones((1800, 450))\n",
    "train_labels = ny.ones((7200,))\n",
    "valid_labels = ny.ones((1800,))"
   ]
  },
  {
   "cell_type": "code",
   "execution_count": 5,
   "metadata": {},
   "outputs": [],
   "source": [
    "train_dataset = SmartDataset(train_data, train_labels)\n",
    "valid_dataset = SmartDataset(valid_data, valid_labels)\n",
    "n_batch = 32\n",
    "n_workers = 8"
   ]
  },
  {
   "cell_type": "code",
   "execution_count": 6,
   "metadata": {},
   "outputs": [
    {
     "name": "stdout",
     "output_type": "stream",
     "text": [
      "torch.Size([32])\n"
     ]
    }
   ],
   "source": [
    "loader = data.DataLoader(train_dataset, batch_size=n_batch, shuffle=True,\n",
    "                         num_workers=n_workers, pin_memory=True)\n",
    "\n",
    "for x in loader:\n",
    "  print(x[1].shape)\n",
    "  break"
   ]
  },
  {
   "cell_type": "code",
   "execution_count": 7,
   "metadata": {},
   "outputs": [
    {
     "data": {
      "text/plain": [
       "tensor(1.)"
      ]
     },
     "execution_count": 7,
     "metadata": {},
     "output_type": "execute_result"
    }
   ],
   "source": [
    "torch.tensor([True, False], dtype=torch.float).sum()"
   ]
  },
  {
   "cell_type": "code",
   "execution_count": 8,
   "metadata": {},
   "outputs": [
    {
     "data": {
      "text/plain": [
       "array([3], dtype=int32)"
      ]
     },
     "execution_count": 8,
     "metadata": {},
     "output_type": "execute_result"
    }
   ],
   "source": [
    "ny.array([3.4]).astype(dtype=ny.int32)"
   ]
  },
  {
   "cell_type": "code",
   "execution_count": 12,
   "metadata": {},
   "outputs": [],
   "source": [
    "attention = torch.nn.MultiheadAttention(256, 4, batch_first=True)\n",
    "data = torch.randn((1024, 256, 150))"
   ]
  },
  {
   "cell_type": "code",
   "execution_count": 14,
   "metadata": {},
   "outputs": [],
   "source": [
    "proj = data.transpose(1, 2)"
   ]
  },
  {
   "cell_type": "code",
   "execution_count": 23,
   "metadata": {},
   "outputs": [],
   "source": [
    "attn, _ = attention.forward(proj, proj, proj, need_weights=False)"
   ]
  },
  {
   "cell_type": "code",
   "execution_count": 31,
   "metadata": {},
   "outputs": [],
   "source": [
    "import torch.nn as nn\n",
    "\n",
    "class MultiHeadAttentionBlock1d(nn.Module):\n",
    "  def __init__(self, in_chan: int, heads: int = 4, bias: bool = True) -> None:\n",
    "    super().__init__()\n",
    "\n",
    "    self.attention_ = nn.MultiheadAttention(embed_dim=in_chan,\n",
    "                                            num_heads=heads,\n",
    "                                            bias=bias,\n",
    "                                            batch_first=True)\n",
    "\n",
    "  def forward(self, x: torch.Tensor) -> torch.Tensor:\n",
    "    \"\"\"Apply MHAttention over mini-batch of size: (N, C, T)\"\"\"\n",
    "    x = x.transpose(1, 2)\n",
    "    attn, _ = self.attention_.forward(x, x, x)\n",
    "    out = attn.transpose(1, 2)\n",
    "    return out"
   ]
  },
  {
   "cell_type": "code",
   "execution_count": 32,
   "metadata": {},
   "outputs": [
    {
     "data": {
      "text/plain": [
       "torch.Size([1024, 256, 150])"
      ]
     },
     "execution_count": 32,
     "metadata": {},
     "output_type": "execute_result"
    }
   ],
   "source": [
    "attention = MultiHeadAttentionBlock1d(256)\n",
    "attention(data).shape"
   ]
  }
 ],
 "metadata": {
  "kernelspec": {
   "display_name": "smart-lIfyssvW-py3.10",
   "language": "python",
   "name": "python3"
  },
  "language_info": {
   "codemirror_mode": {
    "name": "ipython",
    "version": 3
   },
   "file_extension": ".py",
   "mimetype": "text/x-python",
   "name": "python",
   "nbconvert_exporter": "python",
   "pygments_lexer": "ipython3",
   "version": "3.10.6"
  },
  "orig_nbformat": 4,
  "vscode": {
   "interpreter": {
    "hash": "288e5ff290a2ff1ff5c3b4f88345e169d05d322c8e0f0e3b91c0292eff088709"
   }
  }
 },
 "nbformat": 4,
 "nbformat_minor": 2
}
